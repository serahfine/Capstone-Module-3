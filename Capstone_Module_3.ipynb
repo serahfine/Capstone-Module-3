{
  "cells": [
    {
      "cell_type": "markdown",
      "metadata": {
        "id": "P65P-N9wTBUx"
      },
      "source": [
        "**Problem Background**\n"
      ]
    },
    {
      "cell_type": "markdown",
      "metadata": {
        "id": "X7n6h7uEU-ui"
      },
      "source": [
        "Kumpulan data tersebut adalah milik perusahaan E-commerce online terkemuka, Belee. Sebuah perusahaan ritel online (E-commerce), Belee, ingin mengetahui pelanggan yang akan berpindah ke perusahaan lain, sehingga mereka dapat melakukan pendekatan kepada pelanggan untuk menawarkan promo.\n",
        "\n",
        "Secara definisi, customer churn mengacu pada bagian dari siklus hidup pelanggan; retensi pelanggan dan perpindahan pelanggan. Churn pelanggan adalah ketika perusahaan kehilangan pelanggan. Dengan demikian, semakin rendah tingkat churn, semakin banyak pelanggan yang bertahan dalam siklus hidup pelanggan perusahaan.\n",
        "\n",
        "Perusahaan pasti akan kehilangan pelanggan dalam siklus hidup produk mereka. Namun, tingkat churn yang tinggi dapat menandakan ketidakpuasan pelanggan atau masalah mendasar dalam produk perusahaan.\n",
        "\n",
        "Tujuan dari pembuatan model machine learning ini adalah: \n",
        "- Menganalisa fitur apa saja yang berkaitan dengan Customer Churn.\n",
        "\n",
        "Untuk membantu menjawab tujuan ini, kami akan mengajukan beberapa pertanyaan penelitian yang berkaitan dengan tujuan proyek ini:\n",
        "\n",
        "1. Apa saja variabel yang signifikan dalam menyebabkan pelanggan berpindah?\n",
        "2. Model machine learning apa yang paling cocok untuk menyelidiki customer churn?\n",
        "3. Variabel apa yang harus difokuskan untuk mempertahankan pelanggan?\n"
      ]
    },
    {
      "cell_type": "code",
      "execution_count": 1,
      "metadata": {
        "colab": {
          "base_uri": "https://localhost:8080/"
        },
        "id": "_MHmi_17dMif",
        "outputId": "3e91a261-b75d-45a7-80e7-95dd6bd8163c"
      },
      "outputs": [
        {
          "name": "stdout",
          "output_type": "stream",
          "text": [
            "Requirement already satisfied: plotly in c:\\users\\great\\anaconda3\\lib\\site-packages (5.9.0)\n",
            "Requirement already satisfied: tenacity>=6.2.0 in c:\\users\\great\\anaconda3\\lib\\site-packages (from plotly) (8.2.2)\n",
            "Note: you may need to restart the kernel to use updated packages.\n"
          ]
        }
      ],
      "source": [
        "%pip install plotly"
      ]
    },
    {
      "cell_type": "code",
      "execution_count": 2,
      "metadata": {
        "id": "fOKTNdaCdNNW"
      },
      "outputs": [],
      "source": [
        "import pandas as pd\n",
        "import numpy as np\n",
        "import matplotlib.pyplot as plt\n",
        "import seaborn as sns\n",
        "import plotly.express as px\n",
        "import matplotlib.colors as mcolors"
      ]
    },
    {
      "cell_type": "code",
      "execution_count": 133,
      "metadata": {
        "colab": {
          "base_uri": "https://localhost:8080/",
          "height": 1000
        },
        "id": "ymxmcJ7ydv4V",
        "outputId": "29513c87-6285-4628-ad40-47956d203488"
      },
      "outputs": [
        {
          "data": {
            "text/html": [
              "<div>\n",
              "<style scoped>\n",
              "    .dataframe tbody tr th:only-of-type {\n",
              "        vertical-align: middle;\n",
              "    }\n",
              "\n",
              "    .dataframe tbody tr th {\n",
              "        vertical-align: top;\n",
              "    }\n",
              "\n",
              "    .dataframe thead th {\n",
              "        text-align: right;\n",
              "    }\n",
              "</style>\n",
              "<table border=\"1\" class=\"dataframe\">\n",
              "  <thead>\n",
              "    <tr style=\"text-align: right;\">\n",
              "      <th></th>\n",
              "      <th>Tenure</th>\n",
              "      <th>WarehouseToHome</th>\n",
              "      <th>NumberOfDeviceRegistered</th>\n",
              "      <th>PreferedOrderCat</th>\n",
              "      <th>SatisfactionScore</th>\n",
              "      <th>MaritalStatus</th>\n",
              "      <th>NumberOfAddress</th>\n",
              "      <th>Complain</th>\n",
              "      <th>DaySinceLastOrder</th>\n",
              "      <th>CashbackAmount</th>\n",
              "      <th>Churn</th>\n",
              "    </tr>\n",
              "  </thead>\n",
              "  <tbody>\n",
              "    <tr>\n",
              "      <th>0</th>\n",
              "      <td>15.0</td>\n",
              "      <td>29.0</td>\n",
              "      <td>4</td>\n",
              "      <td>Laptop &amp; Accessory</td>\n",
              "      <td>3</td>\n",
              "      <td>Single</td>\n",
              "      <td>2</td>\n",
              "      <td>0</td>\n",
              "      <td>7.0</td>\n",
              "      <td>143.32</td>\n",
              "      <td>0</td>\n",
              "    </tr>\n",
              "    <tr>\n",
              "      <th>1</th>\n",
              "      <td>7.0</td>\n",
              "      <td>25.0</td>\n",
              "      <td>4</td>\n",
              "      <td>Mobile</td>\n",
              "      <td>1</td>\n",
              "      <td>Married</td>\n",
              "      <td>2</td>\n",
              "      <td>0</td>\n",
              "      <td>7.0</td>\n",
              "      <td>129.29</td>\n",
              "      <td>0</td>\n",
              "    </tr>\n",
              "    <tr>\n",
              "      <th>2</th>\n",
              "      <td>27.0</td>\n",
              "      <td>13.0</td>\n",
              "      <td>3</td>\n",
              "      <td>Laptop &amp; Accessory</td>\n",
              "      <td>1</td>\n",
              "      <td>Married</td>\n",
              "      <td>5</td>\n",
              "      <td>0</td>\n",
              "      <td>7.0</td>\n",
              "      <td>168.54</td>\n",
              "      <td>0</td>\n",
              "    </tr>\n",
              "    <tr>\n",
              "      <th>3</th>\n",
              "      <td>20.0</td>\n",
              "      <td>25.0</td>\n",
              "      <td>4</td>\n",
              "      <td>Fashion</td>\n",
              "      <td>3</td>\n",
              "      <td>Divorced</td>\n",
              "      <td>7</td>\n",
              "      <td>0</td>\n",
              "      <td>NaN</td>\n",
              "      <td>230.27</td>\n",
              "      <td>0</td>\n",
              "    </tr>\n",
              "    <tr>\n",
              "      <th>4</th>\n",
              "      <td>30.0</td>\n",
              "      <td>15.0</td>\n",
              "      <td>4</td>\n",
              "      <td>Others</td>\n",
              "      <td>4</td>\n",
              "      <td>Single</td>\n",
              "      <td>8</td>\n",
              "      <td>0</td>\n",
              "      <td>8.0</td>\n",
              "      <td>322.17</td>\n",
              "      <td>0</td>\n",
              "    </tr>\n",
              "    <tr>\n",
              "      <th>5</th>\n",
              "      <td>7.0</td>\n",
              "      <td>16.0</td>\n",
              "      <td>4</td>\n",
              "      <td>Mobile Phone</td>\n",
              "      <td>2</td>\n",
              "      <td>Divorced</td>\n",
              "      <td>2</td>\n",
              "      <td>0</td>\n",
              "      <td>11.0</td>\n",
              "      <td>152.81</td>\n",
              "      <td>0</td>\n",
              "    </tr>\n",
              "    <tr>\n",
              "      <th>6</th>\n",
              "      <td>1.0</td>\n",
              "      <td>15.0</td>\n",
              "      <td>6</td>\n",
              "      <td>Mobile Phone</td>\n",
              "      <td>5</td>\n",
              "      <td>Divorced</td>\n",
              "      <td>3</td>\n",
              "      <td>0</td>\n",
              "      <td>2.0</td>\n",
              "      <td>149.51</td>\n",
              "      <td>0</td>\n",
              "    </tr>\n",
              "    <tr>\n",
              "      <th>7</th>\n",
              "      <td>1.0</td>\n",
              "      <td>11.0</td>\n",
              "      <td>4</td>\n",
              "      <td>Mobile Phone</td>\n",
              "      <td>5</td>\n",
              "      <td>Single</td>\n",
              "      <td>3</td>\n",
              "      <td>0</td>\n",
              "      <td>1.0</td>\n",
              "      <td>154.73</td>\n",
              "      <td>1</td>\n",
              "    </tr>\n",
              "    <tr>\n",
              "      <th>8</th>\n",
              "      <td>11.0</td>\n",
              "      <td>12.0</td>\n",
              "      <td>4</td>\n",
              "      <td>Mobile Phone</td>\n",
              "      <td>3</td>\n",
              "      <td>Married</td>\n",
              "      <td>2</td>\n",
              "      <td>0</td>\n",
              "      <td>4.0</td>\n",
              "      <td>137.02</td>\n",
              "      <td>0</td>\n",
              "    </tr>\n",
              "    <tr>\n",
              "      <th>9</th>\n",
              "      <td>17.0</td>\n",
              "      <td>7.0</td>\n",
              "      <td>3</td>\n",
              "      <td>Laptop &amp; Accessory</td>\n",
              "      <td>1</td>\n",
              "      <td>Married</td>\n",
              "      <td>5</td>\n",
              "      <td>1</td>\n",
              "      <td>2.0</td>\n",
              "      <td>157.43</td>\n",
              "      <td>0</td>\n",
              "    </tr>\n",
              "    <tr>\n",
              "      <th>10</th>\n",
              "      <td>6.0</td>\n",
              "      <td>26.0</td>\n",
              "      <td>6</td>\n",
              "      <td>Fashion</td>\n",
              "      <td>3</td>\n",
              "      <td>Married</td>\n",
              "      <td>5</td>\n",
              "      <td>0</td>\n",
              "      <td>NaN</td>\n",
              "      <td>221.10</td>\n",
              "      <td>0</td>\n",
              "    </tr>\n",
              "    <tr>\n",
              "      <th>11</th>\n",
              "      <td>16.0</td>\n",
              "      <td>20.0</td>\n",
              "      <td>2</td>\n",
              "      <td>Laptop &amp; Accessory</td>\n",
              "      <td>5</td>\n",
              "      <td>Married</td>\n",
              "      <td>7</td>\n",
              "      <td>0</td>\n",
              "      <td>1.0</td>\n",
              "      <td>180.38</td>\n",
              "      <td>0</td>\n",
              "    </tr>\n",
              "    <tr>\n",
              "      <th>12</th>\n",
              "      <td>1.0</td>\n",
              "      <td>7.0</td>\n",
              "      <td>4</td>\n",
              "      <td>Mobile Phone</td>\n",
              "      <td>3</td>\n",
              "      <td>Divorced</td>\n",
              "      <td>5</td>\n",
              "      <td>0</td>\n",
              "      <td>3.0</td>\n",
              "      <td>154.09</td>\n",
              "      <td>1</td>\n",
              "    </tr>\n",
              "    <tr>\n",
              "      <th>13</th>\n",
              "      <td>1.0</td>\n",
              "      <td>7.0</td>\n",
              "      <td>5</td>\n",
              "      <td>Fashion</td>\n",
              "      <td>3</td>\n",
              "      <td>Divorced</td>\n",
              "      <td>7</td>\n",
              "      <td>0</td>\n",
              "      <td>NaN</td>\n",
              "      <td>231.09</td>\n",
              "      <td>1</td>\n",
              "    </tr>\n",
              "    <tr>\n",
              "      <th>14</th>\n",
              "      <td>6.0</td>\n",
              "      <td>14.0</td>\n",
              "      <td>3</td>\n",
              "      <td>Laptop &amp; Accessory</td>\n",
              "      <td>5</td>\n",
              "      <td>Married</td>\n",
              "      <td>3</td>\n",
              "      <td>0</td>\n",
              "      <td>2.0</td>\n",
              "      <td>163.92</td>\n",
              "      <td>0</td>\n",
              "    </tr>\n",
              "  </tbody>\n",
              "</table>\n",
              "</div>"
            ],
            "text/plain": [
              "    Tenure  WarehouseToHome  NumberOfDeviceRegistered    PreferedOrderCat  \\\n",
              "0     15.0             29.0                         4  Laptop & Accessory   \n",
              "1      7.0             25.0                         4              Mobile   \n",
              "2     27.0             13.0                         3  Laptop & Accessory   \n",
              "3     20.0             25.0                         4             Fashion   \n",
              "4     30.0             15.0                         4              Others   \n",
              "5      7.0             16.0                         4        Mobile Phone   \n",
              "6      1.0             15.0                         6        Mobile Phone   \n",
              "7      1.0             11.0                         4        Mobile Phone   \n",
              "8     11.0             12.0                         4        Mobile Phone   \n",
              "9     17.0              7.0                         3  Laptop & Accessory   \n",
              "10     6.0             26.0                         6             Fashion   \n",
              "11    16.0             20.0                         2  Laptop & Accessory   \n",
              "12     1.0              7.0                         4        Mobile Phone   \n",
              "13     1.0              7.0                         5             Fashion   \n",
              "14     6.0             14.0                         3  Laptop & Accessory   \n",
              "\n",
              "    SatisfactionScore MaritalStatus  NumberOfAddress  Complain  \\\n",
              "0                   3        Single                2         0   \n",
              "1                   1       Married                2         0   \n",
              "2                   1       Married                5         0   \n",
              "3                   3      Divorced                7         0   \n",
              "4                   4        Single                8         0   \n",
              "5                   2      Divorced                2         0   \n",
              "6                   5      Divorced                3         0   \n",
              "7                   5        Single                3         0   \n",
              "8                   3       Married                2         0   \n",
              "9                   1       Married                5         1   \n",
              "10                  3       Married                5         0   \n",
              "11                  5       Married                7         0   \n",
              "12                  3      Divorced                5         0   \n",
              "13                  3      Divorced                7         0   \n",
              "14                  5       Married                3         0   \n",
              "\n",
              "    DaySinceLastOrder  CashbackAmount  Churn  \n",
              "0                 7.0          143.32      0  \n",
              "1                 7.0          129.29      0  \n",
              "2                 7.0          168.54      0  \n",
              "3                 NaN          230.27      0  \n",
              "4                 8.0          322.17      0  \n",
              "5                11.0          152.81      0  \n",
              "6                 2.0          149.51      0  \n",
              "7                 1.0          154.73      1  \n",
              "8                 4.0          137.02      0  \n",
              "9                 2.0          157.43      0  \n",
              "10                NaN          221.10      0  \n",
              "11                1.0          180.38      0  \n",
              "12                3.0          154.09      1  \n",
              "13                NaN          231.09      1  \n",
              "14                2.0          163.92      0  "
            ]
          },
          "metadata": {},
          "output_type": "display_data"
        }
      ],
      "source": [
        "df = pd.read_csv('data_ecommerce_customer_churn.csv')\n",
        "display(df.head(15))"
      ]
    },
    {
      "cell_type": "code",
      "execution_count": 4,
      "metadata": {
        "colab": {
          "base_uri": "https://localhost:8080/"
        },
        "id": "cqJsaxeqeJK5",
        "outputId": "6aabaf7d-0257-4ca2-cb2b-ca8f511a596b"
      },
      "outputs": [
        {
          "name": "stdout",
          "output_type": "stream",
          "text": [
            "<class 'pandas.core.frame.DataFrame'>\n",
            "RangeIndex: 3941 entries, 0 to 3940\n",
            "Data columns (total 11 columns):\n",
            " #   Column                    Non-Null Count  Dtype  \n",
            "---  ------                    --------------  -----  \n",
            " 0   Tenure                    3747 non-null   float64\n",
            " 1   WarehouseToHome           3772 non-null   float64\n",
            " 2   NumberOfDeviceRegistered  3941 non-null   int64  \n",
            " 3   PreferedOrderCat          3941 non-null   object \n",
            " 4   SatisfactionScore         3941 non-null   int64  \n",
            " 5   MaritalStatus             3941 non-null   object \n",
            " 6   NumberOfAddress           3941 non-null   int64  \n",
            " 7   Complain                  3941 non-null   int64  \n",
            " 8   DaySinceLastOrder         3728 non-null   float64\n",
            " 9   CashbackAmount            3941 non-null   float64\n",
            " 10  Churn                     3941 non-null   int64  \n",
            "dtypes: float64(4), int64(5), object(2)\n",
            "memory usage: 338.8+ KB\n"
          ]
        }
      ],
      "source": [
        "df.info()"
      ]
    },
    {
      "cell_type": "markdown",
      "metadata": {
        "id": "5Rr7TW5uwuGs"
      },
      "source": [
        "Tenure: Tenure of a customer in the company..\n",
        "\n",
        "WarehouseToHome: Distance between the warehouse to the customer’s home.\n",
        "\n",
        "NumberOfDeviceRegistered: Total number of deceives is registered on a particular customer.\n",
        "\n",
        "PreferedOrderCat: Preferred order category of a customer in the last month.\n",
        "\n",
        "SatisfactionScore: Satisfactory score of a customer on service.\n",
        "\n",
        "MaritalStatus: Marital status of a customer.\n",
        "\n",
        "NumberOfAddress: Total number of added on a particular customer.\n",
        "\n",
        "Complaint: Any complaint has been raised in the last month.\n",
        "\n",
        "DaySinceLastOrder: Day since last order by customer.\n",
        "\n",
        "CashbackAmount: Average cashback in last month\n",
        "\n",
        "Churn: Churn flag."
      ]
    },
    {
      "cell_type": "markdown",
      "metadata": {
        "id": "nx2H4i_Tw6_7"
      },
      "source": [
        "Variabel-variabel ini dapat berperan dalam menentukan churn flag, karena beberapa dari variabel ini seperti SatisfactionScore, CashbackAmount berperan dalam customer satisfaction. Kepuasan pelanggan memainkan peran utama dalam menentukan churn[1], di mana customer satisfaction yang tinggi dapat menghasilkan tingkat churn yang lebih rendah dari customer.\n",
        "\n",
        "[1] - Gustaffson, et al., 2005 - The Effects of Customer Satisfaction, Relationship Commitment Dimensions, and Triggers on Customer Retention"
      ]
    },
    {
      "cell_type": "code",
      "execution_count": 5,
      "metadata": {
        "colab": {
          "base_uri": "https://localhost:8080/"
        },
        "id": "OVvFodP9eqB8",
        "outputId": "2f388043-a751-4d14-81dd-e66c6e681ccf"
      },
      "outputs": [
        {
          "data": {
            "text/plain": [
              "(3941, 11)"
            ]
          },
          "execution_count": 5,
          "metadata": {},
          "output_type": "execute_result"
        }
      ],
      "source": [
        "df.shape"
      ]
    },
    {
      "cell_type": "markdown",
      "metadata": {
        "id": "q2eIc4rB1ZIW"
      },
      "source": [
        "Setelah melakukan observasi terhadap variabel 'Mobile Phone' dan 'Mobile', ada curiga bahwa 2 kategori ini adalah 2 kategori yang sama. Dari situ, kita bisa menggangap `Mobile` dan `Mobile Phone` sebagai `Mobile Phone` sebelum dilakukan data preprocessing lebih lanjut."
      ]
    },
    {
      "cell_type": "code",
      "execution_count": 6,
      "metadata": {
        "colab": {
          "base_uri": "https://localhost:8080/",
          "height": 435
        },
        "id": "13GhmJf61YTE",
        "outputId": "8d503637-0f15-435a-bc7a-e88ba7e1b92e"
      },
      "outputs": [
        {
          "data": {
            "text/html": [
              "<div>\n",
              "<style scoped>\n",
              "    .dataframe tbody tr th:only-of-type {\n",
              "        vertical-align: middle;\n",
              "    }\n",
              "\n",
              "    .dataframe tbody tr th {\n",
              "        vertical-align: top;\n",
              "    }\n",
              "\n",
              "    .dataframe thead th {\n",
              "        text-align: right;\n",
              "    }\n",
              "</style>\n",
              "<table border=\"1\" class=\"dataframe\">\n",
              "  <thead>\n",
              "    <tr style=\"text-align: right;\">\n",
              "      <th></th>\n",
              "      <th>Tenure</th>\n",
              "      <th>WarehouseToHome</th>\n",
              "      <th>NumberOfDeviceRegistered</th>\n",
              "      <th>PreferedOrderCat</th>\n",
              "      <th>SatisfactionScore</th>\n",
              "      <th>MaritalStatus</th>\n",
              "      <th>NumberOfAddress</th>\n",
              "      <th>Complain</th>\n",
              "      <th>DaySinceLastOrder</th>\n",
              "      <th>CashbackAmount</th>\n",
              "      <th>Churn</th>\n",
              "    </tr>\n",
              "  </thead>\n",
              "  <tbody>\n",
              "    <tr>\n",
              "      <th>0</th>\n",
              "      <td>15.0</td>\n",
              "      <td>29.0</td>\n",
              "      <td>4</td>\n",
              "      <td>Laptop &amp; Accessory</td>\n",
              "      <td>3</td>\n",
              "      <td>Single</td>\n",
              "      <td>2</td>\n",
              "      <td>0</td>\n",
              "      <td>7.0</td>\n",
              "      <td>143.32</td>\n",
              "      <td>0</td>\n",
              "    </tr>\n",
              "    <tr>\n",
              "      <th>1</th>\n",
              "      <td>7.0</td>\n",
              "      <td>25.0</td>\n",
              "      <td>4</td>\n",
              "      <td>Mobile Phone</td>\n",
              "      <td>1</td>\n",
              "      <td>Married</td>\n",
              "      <td>2</td>\n",
              "      <td>0</td>\n",
              "      <td>7.0</td>\n",
              "      <td>129.29</td>\n",
              "      <td>0</td>\n",
              "    </tr>\n",
              "    <tr>\n",
              "      <th>2</th>\n",
              "      <td>27.0</td>\n",
              "      <td>13.0</td>\n",
              "      <td>3</td>\n",
              "      <td>Laptop &amp; Accessory</td>\n",
              "      <td>1</td>\n",
              "      <td>Married</td>\n",
              "      <td>5</td>\n",
              "      <td>0</td>\n",
              "      <td>7.0</td>\n",
              "      <td>168.54</td>\n",
              "      <td>0</td>\n",
              "    </tr>\n",
              "    <tr>\n",
              "      <th>3</th>\n",
              "      <td>20.0</td>\n",
              "      <td>25.0</td>\n",
              "      <td>4</td>\n",
              "      <td>Fashion</td>\n",
              "      <td>3</td>\n",
              "      <td>Divorced</td>\n",
              "      <td>7</td>\n",
              "      <td>0</td>\n",
              "      <td>NaN</td>\n",
              "      <td>230.27</td>\n",
              "      <td>0</td>\n",
              "    </tr>\n",
              "    <tr>\n",
              "      <th>4</th>\n",
              "      <td>30.0</td>\n",
              "      <td>15.0</td>\n",
              "      <td>4</td>\n",
              "      <td>Others</td>\n",
              "      <td>4</td>\n",
              "      <td>Single</td>\n",
              "      <td>8</td>\n",
              "      <td>0</td>\n",
              "      <td>8.0</td>\n",
              "      <td>322.17</td>\n",
              "      <td>0</td>\n",
              "    </tr>\n",
              "    <tr>\n",
              "      <th>5</th>\n",
              "      <td>7.0</td>\n",
              "      <td>16.0</td>\n",
              "      <td>4</td>\n",
              "      <td>Mobile Phone</td>\n",
              "      <td>2</td>\n",
              "      <td>Divorced</td>\n",
              "      <td>2</td>\n",
              "      <td>0</td>\n",
              "      <td>11.0</td>\n",
              "      <td>152.81</td>\n",
              "      <td>0</td>\n",
              "    </tr>\n",
              "    <tr>\n",
              "      <th>6</th>\n",
              "      <td>1.0</td>\n",
              "      <td>15.0</td>\n",
              "      <td>6</td>\n",
              "      <td>Mobile Phone</td>\n",
              "      <td>5</td>\n",
              "      <td>Divorced</td>\n",
              "      <td>3</td>\n",
              "      <td>0</td>\n",
              "      <td>2.0</td>\n",
              "      <td>149.51</td>\n",
              "      <td>0</td>\n",
              "    </tr>\n",
              "    <tr>\n",
              "      <th>7</th>\n",
              "      <td>1.0</td>\n",
              "      <td>11.0</td>\n",
              "      <td>4</td>\n",
              "      <td>Mobile Phone</td>\n",
              "      <td>5</td>\n",
              "      <td>Single</td>\n",
              "      <td>3</td>\n",
              "      <td>0</td>\n",
              "      <td>1.0</td>\n",
              "      <td>154.73</td>\n",
              "      <td>1</td>\n",
              "    </tr>\n",
              "    <tr>\n",
              "      <th>8</th>\n",
              "      <td>11.0</td>\n",
              "      <td>12.0</td>\n",
              "      <td>4</td>\n",
              "      <td>Mobile Phone</td>\n",
              "      <td>3</td>\n",
              "      <td>Married</td>\n",
              "      <td>2</td>\n",
              "      <td>0</td>\n",
              "      <td>4.0</td>\n",
              "      <td>137.02</td>\n",
              "      <td>0</td>\n",
              "    </tr>\n",
              "    <tr>\n",
              "      <th>9</th>\n",
              "      <td>17.0</td>\n",
              "      <td>7.0</td>\n",
              "      <td>3</td>\n",
              "      <td>Laptop &amp; Accessory</td>\n",
              "      <td>1</td>\n",
              "      <td>Married</td>\n",
              "      <td>5</td>\n",
              "      <td>1</td>\n",
              "      <td>2.0</td>\n",
              "      <td>157.43</td>\n",
              "      <td>0</td>\n",
              "    </tr>\n",
              "  </tbody>\n",
              "</table>\n",
              "</div>"
            ],
            "text/plain": [
              "   Tenure  WarehouseToHome  NumberOfDeviceRegistered    PreferedOrderCat  \\\n",
              "0    15.0             29.0                         4  Laptop & Accessory   \n",
              "1     7.0             25.0                         4        Mobile Phone   \n",
              "2    27.0             13.0                         3  Laptop & Accessory   \n",
              "3    20.0             25.0                         4             Fashion   \n",
              "4    30.0             15.0                         4              Others   \n",
              "5     7.0             16.0                         4        Mobile Phone   \n",
              "6     1.0             15.0                         6        Mobile Phone   \n",
              "7     1.0             11.0                         4        Mobile Phone   \n",
              "8    11.0             12.0                         4        Mobile Phone   \n",
              "9    17.0              7.0                         3  Laptop & Accessory   \n",
              "\n",
              "   SatisfactionScore MaritalStatus  NumberOfAddress  Complain  \\\n",
              "0                  3        Single                2         0   \n",
              "1                  1       Married                2         0   \n",
              "2                  1       Married                5         0   \n",
              "3                  3      Divorced                7         0   \n",
              "4                  4        Single                8         0   \n",
              "5                  2      Divorced                2         0   \n",
              "6                  5      Divorced                3         0   \n",
              "7                  5        Single                3         0   \n",
              "8                  3       Married                2         0   \n",
              "9                  1       Married                5         1   \n",
              "\n",
              "   DaySinceLastOrder  CashbackAmount  Churn  \n",
              "0                7.0          143.32      0  \n",
              "1                7.0          129.29      0  \n",
              "2                7.0          168.54      0  \n",
              "3                NaN          230.27      0  \n",
              "4                8.0          322.17      0  \n",
              "5               11.0          152.81      0  \n",
              "6                2.0          149.51      0  \n",
              "7                1.0          154.73      1  \n",
              "8                4.0          137.02      0  \n",
              "9                2.0          157.43      0  "
            ]
          },
          "execution_count": 6,
          "metadata": {},
          "output_type": "execute_result"
        }
      ],
      "source": [
        "df.loc[df['PreferedOrderCat'] == 'Mobile', 'PreferedOrderCat' ] = 'Mobile Phone'\n",
        "df.head(10)"
      ]
    },
    {
      "cell_type": "markdown",
      "metadata": {
        "id": "lhv1J2BgOAl8"
      },
      "source": [
        "## Visualisasi seluruh atribut data dengan menggunakan histogram"
      ]
    },
    {
      "cell_type": "code",
      "execution_count": 7,
      "metadata": {
        "colab": {
          "base_uri": "https://localhost:8080/",
          "height": 1000
        },
        "id": "ut0rNn0sLdZM",
        "outputId": "b6ec2ebb-9e2f-46bb-923d-20ab216b870d"
      },
      "outputs": [
        {
          "name": "stderr",
          "output_type": "stream",
          "text": [
            "c:\\Users\\Great\\anaconda3\\Lib\\site-packages\\seaborn\\_oldcore.py:1119: FutureWarning: use_inf_as_na option is deprecated and will be removed in a future version. Convert inf values to NaN before operating instead.\n",
            "  with pd.option_context('mode.use_inf_as_na', True):\n",
            "c:\\Users\\Great\\anaconda3\\Lib\\site-packages\\seaborn\\_oldcore.py:1119: FutureWarning: use_inf_as_na option is deprecated and will be removed in a future version. Convert inf values to NaN before operating instead.\n",
            "  with pd.option_context('mode.use_inf_as_na', True):\n",
            "c:\\Users\\Great\\anaconda3\\Lib\\site-packages\\seaborn\\_oldcore.py:1119: FutureWarning: use_inf_as_na option is deprecated and will be removed in a future version. Convert inf values to NaN before operating instead.\n",
            "  with pd.option_context('mode.use_inf_as_na', True):\n",
            "c:\\Users\\Great\\anaconda3\\Lib\\site-packages\\seaborn\\_oldcore.py:1119: FutureWarning: use_inf_as_na option is deprecated and will be removed in a future version. Convert inf values to NaN before operating instead.\n",
            "  with pd.option_context('mode.use_inf_as_na', True):\n",
            "c:\\Users\\Great\\anaconda3\\Lib\\site-packages\\seaborn\\_oldcore.py:1119: FutureWarning: use_inf_as_na option is deprecated and will be removed in a future version. Convert inf values to NaN before operating instead.\n",
            "  with pd.option_context('mode.use_inf_as_na', True):\n",
            "c:\\Users\\Great\\anaconda3\\Lib\\site-packages\\seaborn\\_oldcore.py:1119: FutureWarning: use_inf_as_na option is deprecated and will be removed in a future version. Convert inf values to NaN before operating instead.\n",
            "  with pd.option_context('mode.use_inf_as_na', True):\n",
            "c:\\Users\\Great\\anaconda3\\Lib\\site-packages\\seaborn\\_oldcore.py:1119: FutureWarning: use_inf_as_na option is deprecated and will be removed in a future version. Convert inf values to NaN before operating instead.\n",
            "  with pd.option_context('mode.use_inf_as_na', True):\n",
            "c:\\Users\\Great\\anaconda3\\Lib\\site-packages\\seaborn\\_oldcore.py:1119: FutureWarning: use_inf_as_na option is deprecated and will be removed in a future version. Convert inf values to NaN before operating instead.\n",
            "  with pd.option_context('mode.use_inf_as_na', True):\n",
            "c:\\Users\\Great\\anaconda3\\Lib\\site-packages\\seaborn\\_oldcore.py:1119: FutureWarning: use_inf_as_na option is deprecated and will be removed in a future version. Convert inf values to NaN before operating instead.\n",
            "  with pd.option_context('mode.use_inf_as_na', True):\n"
          ]
        },
        {
          "data": {
            "image/png": "[encoded data removed]",
            "text/plain": [
              "<Figure size 1000x1500 with 11 Axes>"
            ]
          },
          "metadata": {},
          "output_type": "display_data"
        }
      ],
      "source": [
        "# Create a figure and set its size\n",
        "plt.figure(figsize=(10, 15))\n",
        "\n",
        "# Separating columns by dtype\n",
        "numeric_columns = df.select_dtypes(include=['int', 'float']).columns\n",
        "object_columns = df.select_dtypes(include=['object']).columns\n",
        "\n",
        "# Plot numeric columns\n",
        "for i, column in enumerate(numeric_columns, 1):\n",
        "    plt.subplot(4, 3, i)\n",
        "    sns.histplot(df[column], bins=30, kde=True)\n",
        "    plt.title(column)\n",
        "\n",
        "# Plot object columns\n",
        "for j, column in enumerate(object_columns, 1):\n",
        "    plt.subplot(4, 3, len(numeric_columns) + j)\n",
        "    df[column].value_counts().plot(kind=\"bar\", color=mcolors.TABLEAU_COLORS)\n",
        "    plt.title(column)\n",
        "\n",
        "# Adjust layout\n",
        "plt.tight_layout()\n",
        "\n",
        "# Show plots\n",
        "plt.show()"
      ]
    },
    {
      "cell_type": "markdown",
      "metadata": {
        "id": "3CK_bDEfSMeJ"
      },
      "source": [
        "Dari histogram yang ditampilkan, dapat dilihat bahwa data agak tidak seimbang, dengan distribusi data yang tidak proporsional antara Churn = 0 dan Churn = 1, dengan rasio kasar 7:1. Hal ini menunjukkan bahwa sebagian besar pelanggan dalam produk tersebut tidak melakukan churn dan masih menjadi pengguna produk tersebut.\n",
        "\n",
        "Kita juga dapat melihat bahwa nilai WarehousetoHome kurang dari 50, yang dapat berarti kurang dari 50 km (karena tidak ada unit yang disebutkan dalam dataset). Ini bisa berarti bahwa semua gudang terletak relatif dekat dengan rumah pelanggan, yang mengarah pada potensi logistik yang lebih baik dan layanan yang lebih cepat, yang bisa menjadi keunggulan kompetitif untuk dimiliki sebagai perusahaan e-commerce.\n",
        "\n",
        "Hal ini juga bisa dilihat dengan satisfaction score yang relatif terdistribusi normal (dengan 3 sebagai modus + median), tetapi kalau dilihat dari pembagian skor antara 2 dan 4, skor lebih banyak cenderung ke nilai lebih positif >3 (3,4,5). Jadi bisa dibilang bahwa customer lumayan puas dengan e-commerce platform ini.\n",
        "\n",
        "Perusahaan ini ada kemungkinan sangat agresif dengan promo cashback mereka, dengan sangat sedikit cashback yang kurang dari $ 100 (dalam unit arbitrer). Ini bisa menjadi cara untuk menarik pelanggan dengan memperkenalkan cashback sebagai promosi untuk memberi insentif kepada pengguna agar menggunakan platform ini.\n",
        "\n",
        "Variabel DaySinceLastOrder juga condong ke arah nilai yang lebih rendah, yang berarti bahwa pelanggan secara aktif menggunakan platform e-commerce dan dapat menandakan bisnis e-commerce berjalan dengan cukup baik, atau bahwa pelanggan secara aktif mengonsumsi produk dalam pasar e-commerce.\n",
        "\n",
        "Kita dapat melihat dari PreferedOrderCat bahwa kategori yang paling disukai untuk dipesan adalah Laptop & Aksesoris, diikuti oleh Ponsel, dan Fashion.\n",
        "\n",
        "Kita juga dapat melihat bahwa mayoritas pengguna di platform ini sudah menikah, diikuti oleh lajang, dan kemudian bercerai. "
      ]
    },
    {
      "cell_type": "markdown",
      "metadata": {
        "id": "rmBAcQIqBnkM"
      },
      "source": [
        "### Data Cleaning"
      ]
    },
    {
      "cell_type": "code",
      "execution_count": 8,
      "metadata": {
        "id": "TQ3dwZiHfBNN"
      },
      "outputs": [],
      "source": [
        "# Data Cleaning"
      ]
    },
    {
      "cell_type": "code",
      "execution_count": 9,
      "metadata": {
        "id": "oiYFUBw_nWBz"
      },
      "outputs": [],
      "source": [
        "# Membuat duplikasi dataframe\n",
        "df_model = df.copy()"
      ]
    },
    {
      "cell_type": "code",
      "execution_count": 10,
      "metadata": {
        "colab": {
          "base_uri": "https://localhost:8080/",
          "height": 431
        },
        "id": "o8kRZhpLCeL_",
        "outputId": "0dcfc28b-f936-4557-b556-e3a6877aa7f1"
      },
      "outputs": [
        {
          "data": {
            "text/html": [
              "<div>\n",
              "<style scoped>\n",
              "    .dataframe tbody tr th:only-of-type {\n",
              "        vertical-align: middle;\n",
              "    }\n",
              "\n",
              "    .dataframe tbody tr th {\n",
              "        vertical-align: top;\n",
              "    }\n",
              "\n",
              "    .dataframe thead th {\n",
              "        text-align: right;\n",
              "    }\n",
              "</style>\n",
              "<table border=\"1\" class=\"dataframe\">\n",
              "  <thead>\n",
              "    <tr style=\"text-align: right;\">\n",
              "      <th></th>\n",
              "      <th>Tenure</th>\n",
              "      <th>WarehouseToHome</th>\n",
              "      <th>NumberOfDeviceRegistered</th>\n",
              "      <th>PreferedOrderCat</th>\n",
              "      <th>SatisfactionScore</th>\n",
              "      <th>MaritalStatus</th>\n",
              "      <th>NumberOfAddress</th>\n",
              "      <th>Complain</th>\n",
              "      <th>DaySinceLastOrder</th>\n",
              "      <th>CashbackAmount</th>\n",
              "      <th>Churn</th>\n",
              "    </tr>\n",
              "  </thead>\n",
              "  <tbody>\n",
              "    <tr>\n",
              "      <th>count</th>\n",
              "      <td>3747.000000</td>\n",
              "      <td>3772.000000</td>\n",
              "      <td>3941.000000</td>\n",
              "      <td>3941</td>\n",
              "      <td>3941.000000</td>\n",
              "      <td>3941</td>\n",
              "      <td>3941.000000</td>\n",
              "      <td>3941.000000</td>\n",
              "      <td>3728.000000</td>\n",
              "      <td>3941.000000</td>\n",
              "      <td>3941.000000</td>\n",
              "    </tr>\n",
              "    <tr>\n",
              "      <th>unique</th>\n",
              "      <td>NaN</td>\n",
              "      <td>NaN</td>\n",
              "      <td>NaN</td>\n",
              "      <td>5</td>\n",
              "      <td>NaN</td>\n",
              "      <td>3</td>\n",
              "      <td>NaN</td>\n",
              "      <td>NaN</td>\n",
              "      <td>NaN</td>\n",
              "      <td>NaN</td>\n",
              "      <td>NaN</td>\n",
              "    </tr>\n",
              "    <tr>\n",
              "      <th>top</th>\n",
              "      <td>NaN</td>\n",
              "      <td>NaN</td>\n",
              "      <td>NaN</td>\n",
              "      <td>Laptop &amp; Accessory</td>\n",
              "      <td>NaN</td>\n",
              "      <td>Married</td>\n",
              "      <td>NaN</td>\n",
              "      <td>NaN</td>\n",
              "      <td>NaN</td>\n",
              "      <td>NaN</td>\n",
              "      <td>NaN</td>\n",
              "    </tr>\n",
              "    <tr>\n",
              "      <th>freq</th>\n",
              "      <td>NaN</td>\n",
              "      <td>NaN</td>\n",
              "      <td>NaN</td>\n",
              "      <td>1458</td>\n",
              "      <td>NaN</td>\n",
              "      <td>2055</td>\n",
              "      <td>NaN</td>\n",
              "      <td>NaN</td>\n",
              "      <td>NaN</td>\n",
              "      <td>NaN</td>\n",
              "      <td>NaN</td>\n",
              "    </tr>\n",
              "    <tr>\n",
              "      <th>mean</th>\n",
              "      <td>10.081398</td>\n",
              "      <td>15.650583</td>\n",
              "      <td>3.679269</td>\n",
              "      <td>NaN</td>\n",
              "      <td>3.088302</td>\n",
              "      <td>NaN</td>\n",
              "      <td>4.237757</td>\n",
              "      <td>0.282416</td>\n",
              "      <td>4.531652</td>\n",
              "      <td>176.707419</td>\n",
              "      <td>0.171023</td>\n",
              "    </tr>\n",
              "    <tr>\n",
              "      <th>std</th>\n",
              "      <td>8.498864</td>\n",
              "      <td>8.452301</td>\n",
              "      <td>1.013938</td>\n",
              "      <td>NaN</td>\n",
              "      <td>1.381832</td>\n",
              "      <td>NaN</td>\n",
              "      <td>2.626699</td>\n",
              "      <td>0.450232</td>\n",
              "      <td>3.667648</td>\n",
              "      <td>48.791784</td>\n",
              "      <td>0.376576</td>\n",
              "    </tr>\n",
              "    <tr>\n",
              "      <th>min</th>\n",
              "      <td>0.000000</td>\n",
              "      <td>5.000000</td>\n",
              "      <td>1.000000</td>\n",
              "      <td>NaN</td>\n",
              "      <td>1.000000</td>\n",
              "      <td>NaN</td>\n",
              "      <td>1.000000</td>\n",
              "      <td>0.000000</td>\n",
              "      <td>0.000000</td>\n",
              "      <td>0.000000</td>\n",
              "      <td>0.000000</td>\n",
              "    </tr>\n",
              "    <tr>\n",
              "      <th>25%</th>\n",
              "      <td>2.000000</td>\n",
              "      <td>9.000000</td>\n",
              "      <td>3.000000</td>\n",
              "      <td>NaN</td>\n",
              "      <td>2.000000</td>\n",
              "      <td>NaN</td>\n",
              "      <td>2.000000</td>\n",
              "      <td>0.000000</td>\n",
              "      <td>2.000000</td>\n",
              "      <td>145.700000</td>\n",
              "      <td>0.000000</td>\n",
              "    </tr>\n",
              "    <tr>\n",
              "      <th>50%</th>\n",
              "      <td>9.000000</td>\n",
              "      <td>14.000000</td>\n",
              "      <td>4.000000</td>\n",
              "      <td>NaN</td>\n",
              "      <td>3.000000</td>\n",
              "      <td>NaN</td>\n",
              "      <td>3.000000</td>\n",
              "      <td>0.000000</td>\n",
              "      <td>3.000000</td>\n",
              "      <td>163.340000</td>\n",
              "      <td>0.000000</td>\n",
              "    </tr>\n",
              "    <tr>\n",
              "      <th>75%</th>\n",
              "      <td>16.000000</td>\n",
              "      <td>21.000000</td>\n",
              "      <td>4.000000</td>\n",
              "      <td>NaN</td>\n",
              "      <td>4.000000</td>\n",
              "      <td>NaN</td>\n",
              "      <td>6.000000</td>\n",
              "      <td>1.000000</td>\n",
              "      <td>7.000000</td>\n",
              "      <td>195.250000</td>\n",
              "      <td>0.000000</td>\n",
              "    </tr>\n",
              "    <tr>\n",
              "      <th>max</th>\n",
              "      <td>61.000000</td>\n",
              "      <td>127.000000</td>\n",
              "      <td>6.000000</td>\n",
              "      <td>NaN</td>\n",
              "      <td>5.000000</td>\n",
              "      <td>NaN</td>\n",
              "      <td>22.000000</td>\n",
              "      <td>1.000000</td>\n",
              "      <td>46.000000</td>\n",
              "      <td>324.990000</td>\n",
              "      <td>1.000000</td>\n",
              "    </tr>\n",
              "  </tbody>\n",
              "</table>\n",
              "</div>"
            ],
            "text/plain": [
              "             Tenure  WarehouseToHome  NumberOfDeviceRegistered  \\\n",
              "count   3747.000000      3772.000000               3941.000000   \n",
              "unique          NaN              NaN                       NaN   \n",
              "top             NaN              NaN                       NaN   \n",
              "freq            NaN              NaN                       NaN   \n",
              "mean      10.081398        15.650583                  3.679269   \n",
              "std        8.498864         8.452301                  1.013938   \n",
              "min        0.000000         5.000000                  1.000000   \n",
              "25%        2.000000         9.000000                  3.000000   \n",
              "50%        9.000000        14.000000                  4.000000   \n",
              "75%       16.000000        21.000000                  4.000000   \n",
              "max       61.000000       127.000000                  6.000000   \n",
              "\n",
              "          PreferedOrderCat  SatisfactionScore MaritalStatus  NumberOfAddress  \\\n",
              "count                 3941        3941.000000          3941      3941.000000   \n",
              "unique                   5                NaN             3              NaN   \n",
              "top     Laptop & Accessory                NaN       Married              NaN   \n",
              "freq                  1458                NaN          2055              NaN   \n",
              "mean                   NaN           3.088302           NaN         4.237757   \n",
              "std                    NaN           1.381832           NaN         2.626699   \n",
              "min                    NaN           1.000000           NaN         1.000000   \n",
              "25%                    NaN           2.000000           NaN         2.000000   \n",
              "50%                    NaN           3.000000           NaN         3.000000   \n",
              "75%                    NaN           4.000000           NaN         6.000000   \n",
              "max                    NaN           5.000000           NaN        22.000000   \n",
              "\n",
              "           Complain  DaySinceLastOrder  CashbackAmount        Churn  \n",
              "count   3941.000000        3728.000000     3941.000000  3941.000000  \n",
              "unique          NaN                NaN             NaN          NaN  \n",
              "top             NaN                NaN             NaN          NaN  \n",
              "freq            NaN                NaN             NaN          NaN  \n",
              "mean       0.282416           4.531652      176.707419     0.171023  \n",
              "std        0.450232           3.667648       48.791784     0.376576  \n",
              "min        0.000000           0.000000        0.000000     0.000000  \n",
              "25%        0.000000           2.000000      145.700000     0.000000  \n",
              "50%        0.000000           3.000000      163.340000     0.000000  \n",
              "75%        1.000000           7.000000      195.250000     0.000000  \n",
              "max        1.000000          46.000000      324.990000     1.000000  "
            ]
          },
          "execution_count": 10,
          "metadata": {},
          "output_type": "execute_result"
        }
      ],
      "source": [
        "df.describe(include='all')"
      ]
    },
    {
      "cell_type": "code",
      "execution_count": 11,
      "metadata": {
        "colab": {
          "base_uri": "https://localhost:8080/",
          "height": 394
        },
        "id": "dBdz1zFVi_xJ",
        "outputId": "59368f06-57a5-4302-ec7d-a1fabbaa19e7"
      },
      "outputs": [
        {
          "data": {
            "text/html": [
              "<div>\n",
              "<style scoped>\n",
              "    .dataframe tbody tr th:only-of-type {\n",
              "        vertical-align: middle;\n",
              "    }\n",
              "\n",
              "    .dataframe tbody tr th {\n",
              "        vertical-align: top;\n",
              "    }\n",
              "\n",
              "    .dataframe thead th {\n",
              "        text-align: right;\n",
              "    }\n",
              "</style>\n",
              "<table border=\"1\" class=\"dataframe\">\n",
              "  <thead>\n",
              "    <tr style=\"text-align: right;\">\n",
              "      <th></th>\n",
              "      <th>dataFeatures</th>\n",
              "      <th>dataType</th>\n",
              "      <th>null</th>\n",
              "      <th>nullPct</th>\n",
              "      <th>unique</th>\n",
              "      <th>uniqueSample</th>\n",
              "    </tr>\n",
              "  </thead>\n",
              "  <tbody>\n",
              "    <tr>\n",
              "      <th>0</th>\n",
              "      <td>Tenure</td>\n",
              "      <td>float64</td>\n",
              "      <td>194</td>\n",
              "      <td>4.92</td>\n",
              "      <td>36</td>\n",
              "      <td>[29.0, 11.0]</td>\n",
              "    </tr>\n",
              "    <tr>\n",
              "      <th>1</th>\n",
              "      <td>WarehouseToHome</td>\n",
              "      <td>float64</td>\n",
              "      <td>169</td>\n",
              "      <td>4.29</td>\n",
              "      <td>33</td>\n",
              "      <td>[7.0, 127.0]</td>\n",
              "    </tr>\n",
              "    <tr>\n",
              "      <th>2</th>\n",
              "      <td>NumberOfDeviceRegistered</td>\n",
              "      <td>int64</td>\n",
              "      <td>0</td>\n",
              "      <td>0.00</td>\n",
              "      <td>6</td>\n",
              "      <td>[5, 4]</td>\n",
              "    </tr>\n",
              "    <tr>\n",
              "      <th>3</th>\n",
              "      <td>PreferedOrderCat</td>\n",
              "      <td>object</td>\n",
              "      <td>0</td>\n",
              "      <td>0.00</td>\n",
              "      <td>5</td>\n",
              "      <td>[Fashion, Mobile Phone]</td>\n",
              "    </tr>\n",
              "    <tr>\n",
              "      <th>4</th>\n",
              "      <td>SatisfactionScore</td>\n",
              "      <td>int64</td>\n",
              "      <td>0</td>\n",
              "      <td>0.00</td>\n",
              "      <td>5</td>\n",
              "      <td>[4, 5]</td>\n",
              "    </tr>\n",
              "    <tr>\n",
              "      <th>5</th>\n",
              "      <td>MaritalStatus</td>\n",
              "      <td>object</td>\n",
              "      <td>0</td>\n",
              "      <td>0.00</td>\n",
              "      <td>3</td>\n",
              "      <td>[Single, Divorced]</td>\n",
              "    </tr>\n",
              "    <tr>\n",
              "      <th>6</th>\n",
              "      <td>NumberOfAddress</td>\n",
              "      <td>int64</td>\n",
              "      <td>0</td>\n",
              "      <td>0.00</td>\n",
              "      <td>14</td>\n",
              "      <td>[10, 21]</td>\n",
              "    </tr>\n",
              "    <tr>\n",
              "      <th>7</th>\n",
              "      <td>Complain</td>\n",
              "      <td>int64</td>\n",
              "      <td>0</td>\n",
              "      <td>0.00</td>\n",
              "      <td>2</td>\n",
              "      <td>[1, 0]</td>\n",
              "    </tr>\n",
              "    <tr>\n",
              "      <th>8</th>\n",
              "      <td>DaySinceLastOrder</td>\n",
              "      <td>float64</td>\n",
              "      <td>213</td>\n",
              "      <td>5.40</td>\n",
              "      <td>22</td>\n",
              "      <td>[10.0, 12.0]</td>\n",
              "    </tr>\n",
              "    <tr>\n",
              "      <th>9</th>\n",
              "      <td>CashbackAmount</td>\n",
              "      <td>float64</td>\n",
              "      <td>0</td>\n",
              "      <td>0.00</td>\n",
              "      <td>2335</td>\n",
              "      <td>[128.11, 234.38]</td>\n",
              "    </tr>\n",
              "    <tr>\n",
              "      <th>10</th>\n",
              "      <td>Churn</td>\n",
              "      <td>int64</td>\n",
              "      <td>0</td>\n",
              "      <td>0.00</td>\n",
              "      <td>2</td>\n",
              "      <td>[0, 1]</td>\n",
              "    </tr>\n",
              "  </tbody>\n",
              "</table>\n",
              "</div>"
            ],
            "text/plain": [
              "                dataFeatures dataType  null  nullPct  unique  \\\n",
              "0                     Tenure  float64   194     4.92      36   \n",
              "1            WarehouseToHome  float64   169     4.29      33   \n",
              "2   NumberOfDeviceRegistered    int64     0     0.00       6   \n",
              "3           PreferedOrderCat   object     0     0.00       5   \n",
              "4          SatisfactionScore    int64     0     0.00       5   \n",
              "5              MaritalStatus   object     0     0.00       3   \n",
              "6            NumberOfAddress    int64     0     0.00      14   \n",
              "7                   Complain    int64     0     0.00       2   \n",
              "8          DaySinceLastOrder  float64   213     5.40      22   \n",
              "9             CashbackAmount  float64     0     0.00    2335   \n",
              "10                     Churn    int64     0     0.00       2   \n",
              "\n",
              "               uniqueSample  \n",
              "0              [29.0, 11.0]  \n",
              "1              [7.0, 127.0]  \n",
              "2                    [5, 4]  \n",
              "3   [Fashion, Mobile Phone]  \n",
              "4                    [4, 5]  \n",
              "5        [Single, Divorced]  \n",
              "6                  [10, 21]  \n",
              "7                    [1, 0]  \n",
              "8              [10.0, 12.0]  \n",
              "9          [128.11, 234.38]  \n",
              "10                   [0, 1]  "
            ]
          },
          "execution_count": 11,
          "metadata": {},
          "output_type": "execute_result"
        }
      ],
      "source": [
        "listItem = []\n",
        "\n",
        "for col in df_model.columns:\n",
        "    listItem.append([col, df_model[col].dtype, df_model[col].isna().sum(), round((df_model[col].isna().sum()/len(df_model[col]))*100, 2),\n",
        "                    df_model[col].nunique(), list(df_model[col].drop_duplicates().sample(2).values)]);\n",
        "\n",
        "df_model_desc = pd.DataFrame(columns=['dataFeatures', 'dataType', 'null', 'nullPct', 'unique', 'uniqueSample'],\n",
        "                     data=listItem)\n",
        "df_model_desc"
      ]
    },
    {
      "cell_type": "markdown",
      "metadata": {
        "id": "6t7OwshaO6Ea"
      },
      "source": [
        "Di sini kita dapat melihat bahwa ada beberapa fitur data yang memiliki nilai nol pada kolom-kolomnya, seperti Tenure, WarehouseToHome, dan DaySinceLastOrder. Karena jumlah variabel yang bernilai null yang relatif tinggi (~5%), kita tidak dapat menghapus baris data yang dimasukkan begitu saja. Selanjutnya, kita perlu menyelidiki entri data yang hilang ini."
      ]
    },
    {
      "cell_type": "code",
      "execution_count": 12,
      "metadata": {
        "colab": {
          "base_uri": "https://localhost:8080/",
          "height": 855
        },
        "id": "irQ1WZznfXgv",
        "outputId": "1d81b683-2eb3-4461-cc0d-d6131cb7617b"
      },
      "outputs": [
        {
          "data": {
            "text/plain": [
              "<Axes: >"
            ]
          },
          "execution_count": 12,
          "metadata": {},
          "output_type": "execute_result"
        },
        {
          "data": {
            "image/png": "[encoded data removed]",
            "text/plain": [
              "<Figure size 1000x1000 with 1 Axes>"
            ]
          },
          "metadata": {},
          "output_type": "display_data"
        }
      ],
      "source": [
        "plt.figure(figsize=(10,10))\n",
        "sns.heatmap(df[['Tenure', 'WarehouseToHome', 'DaySinceLastOrder','Churn']].sort_values(by='Churn').isna(), cbar=False)"
      ]
    },
    {
      "cell_type": "markdown",
      "metadata": {
        "id": "MoZJOnyHQX87"
      },
      "source": [
        "Ketika kita mencoba memvisualisasikan nilai yang hilang dari 3 Fitur Data vs variabel yang ingin kita prediksi (Churn), tidak terlihat bahwa data tersebut hilang karena salah entri atau data tersebut tidak lengkap. Selanjutnya kita dapat mencoba mengkorelasikan data ini untuk melihat apakah ada korelasi di dalam variabel yang hilang itu sendiri."
      ]
    },
    {
      "cell_type": "code",
      "execution_count": 13,
      "metadata": {
        "colab": {
          "base_uri": "https://localhost:8080/",
          "height": 573
        },
        "id": "aUHYLRbPRLEu",
        "outputId": "444cdb48-40ef-4566-feae-4ba0ffcc5c8a"
      },
      "outputs": [
        {
          "data": {
            "text/plain": [
              "<Axes: >"
            ]
          },
          "execution_count": 13,
          "metadata": {},
          "output_type": "execute_result"
        },
        {
          "data": {
            "image/png": "[encoded data removed]",
            "text/plain": [
              "<Figure size 640x480 with 2 Axes>"
            ]
          },
          "metadata": {},
          "output_type": "display_data"
        }
      ],
      "source": [
        "missing_values_df = df[['Tenure', 'WarehouseToHome', 'DaySinceLastOrder']]\n",
        "sns.heatmap(missing_values_df.corr(method='pearson'), annot=True)\n"
      ]
    },
    {
      "cell_type": "markdown",
      "metadata": {
        "id": "4jXWNnfeTEGy"
      },
      "source": [
        "Dengan melihat matriks korelasi ini, kita dapat melihat bahwa tidak ada korelasi antara variabel yang hilang, yang merupakan salah satu tanda bahwa variabel tersebut hilang secara acak (MAR). Dengan demikian, kita akan dapat menggunakan imputer multivariat untuk memasukkan variabel yang hilang nantinya."
      ]
    },
    {
      "cell_type": "code",
      "execution_count": 77,
      "metadata": {
        "colab": {
          "base_uri": "https://localhost:8080/",
          "height": 689
        },
        "id": "Bejuibnvfjwu",
        "outputId": "20e14cad-3578-4c59-ef5c-3c2ef0479d62"
      },
      "outputs": [
        {
          "data": {
            "image/png": "[encoded data removed]",
            "text/plain": [
              "<Figure size 1000x1000 with 2 Axes>"
            ]
          },
          "metadata": {},
          "output_type": "display_data"
        }
      ],
      "source": [
        "numeric_columns = df_model[['Tenure','WarehouseToHome','NumberOfDeviceRegistered','SatisfactionScore','NumberOfAddress','Complain','DaySinceLastOrder','CashbackAmount','Churn']]\n",
        "\n",
        "correlation_matrix = numeric_columns.corr(method='pearson')\n",
        "\n",
        "plt.subplots(figsize=(10,10))\n",
        "\n",
        "# Plot the heatmap with numeric values and increased font size\n",
        "sns.heatmap(correlation_matrix, annot=True, fmt=\".2f\", annot_kws={\"size\": 10})\n",
        "\n",
        "# Show the plot\n",
        "plt.show()"
      ]
    },
    {
      "cell_type": "code",
      "execution_count": 33,
      "metadata": {
        "colab": {
          "base_uri": "https://localhost:8080/",
          "height": 1000
        },
        "id": "JIza2NixhzFK",
        "outputId": "bbd48678-b6a1-4105-b507-fc3c6db6520b"
      },
      "outputs": [
        {
          "data": {
            "image/png": "[encoded data removed]",
            "text/plain": [
              "<Figure size 1500x1500 with 9 Axes>"
            ]
          },
          "metadata": {},
          "output_type": "display_data"
        }
      ],
      "source": [
        "# Select numerical columns\n",
        "numerical_columns = df.select_dtypes(include=['int', 'float']).columns\n",
        "\n",
        "# Calculate the number of rows and columns for subplots\n",
        "num_plots = len(numerical_columns)\n",
        "num_rows = (num_plots - 1) // 3 + 1\n",
        "num_cols = min(3, num_plots)\n",
        "\n",
        "# Create a subplot grid\n",
        "fig, axes = plt.subplots(nrows=num_rows, ncols=num_cols, figsize=(15, 5 * num_rows))\n",
        "\n",
        "# Loop through each numerical column and create a boxplot\n",
        "for i, column in enumerate(numerical_columns):\n",
        "    row_index = i // num_cols\n",
        "    col_index = i % num_cols\n",
        "    sns.boxplot(x=df[column], ax=axes[row_index][col_index])\n",
        "    axes[row_index][col_index].set_title(f'Boxplot of {column}')\n",
        "\n",
        "# Hide empty subplots\n",
        "for i in range(num_plots, num_rows * num_cols):\n",
        "    row_index = i // num_cols\n",
        "    col_index = i % num_cols\n",
        "    fig.delaxes(axes[row_index][col_index])\n",
        "\n",
        "plt.tight_layout()\n",
        "plt.show()"
      ]
    },
    {
      "cell_type": "code",
      "execution_count": 34,
      "metadata": {
        "colab": {
          "base_uri": "https://localhost:8080/"
        },
        "id": "ylIY8B2GjMSt",
        "outputId": "421823ca-47e7-4a4b-9949-fea7fbe3b750"
      },
      "outputs": [
        {
          "name": "stdout",
          "output_type": "stream",
          "text": [
            "Data points beyond the interquartile range (using 1.5 IQR method):\n",
            "      Tenure  WarehouseToHome  NumberOfDeviceRegistered PreferedOrderCat  \\\n",
            "4       30.0             15.0                         4           Others   \n",
            "43      17.0             21.0                         4          Grocery   \n",
            "51      61.0             28.0                         4          Grocery   \n",
            "101     19.0             21.0                         3           Others   \n",
            "104     15.0              9.0                         4          Grocery   \n",
            "...      ...              ...                       ...              ...   \n",
            "3867    13.0             16.0                         4           Others   \n",
            "3869     7.0             24.0                         4          Grocery   \n",
            "3875    18.0              6.0                         1           Others   \n",
            "3914    17.0             10.0                         1           Others   \n",
            "3935    26.0              7.0                         4          Grocery   \n",
            "\n",
            "      SatisfactionScore MaritalStatus  NumberOfAddress  Complain  \\\n",
            "4                     4        Single                8         0   \n",
            "43                    5       Married                8         0   \n",
            "51                    1       Married                6         1   \n",
            "101                   4       Married                6         0   \n",
            "104                   5      Divorced                9         0   \n",
            "...                 ...           ...              ...       ...   \n",
            "3867                  1        Single                4         0   \n",
            "3869                  3        Single                3         0   \n",
            "3875                  1       Married                1         0   \n",
            "3914                  5       Married                2         0   \n",
            "3935                  1       Married                4         0   \n",
            "\n",
            "      DaySinceLastOrder  CashbackAmount  Churn  \n",
            "4                   8.0          322.17      0  \n",
            "43                  1.0          296.59      0  \n",
            "51                  1.0          303.75      0  \n",
            "101                 3.0          290.81      0  \n",
            "104                 9.0          290.95      0  \n",
            "...                 ...             ...    ...  \n",
            "3867                4.0          319.31      0  \n",
            "3869                1.0          299.44      0  \n",
            "3875                7.0          292.02      0  \n",
            "3914               13.0          291.90      0  \n",
            "3935                9.0          295.99      0  \n",
            "\n",
            "[316 rows x 11 columns]\n"
          ]
        }
      ],
      "source": [
        "# 1.5 QR Method\n",
        "df_outliers = df[['Tenure','WarehouseToHome','NumberOfAddress','DaySinceLastOrder','CashbackAmount']]\n",
        "df_cashback = df['CashbackAmount']\n",
        "\n",
        "Q1 = np.percentile(df_cashback, 25)\n",
        "\n",
        "# Calculate the third quartile (Q3)\n",
        "Q3 = np.percentile(df_cashback, 75)\n",
        "\n",
        "# Calculate the interquartile range (IQR)\n",
        "IQR = Q3 - Q1\n",
        "\n",
        "# Define the upper and lower bounds for outliers\n",
        "lower_bound = Q1 - 1.5 * IQR\n",
        "upper_bound = Q3 + 1.5 * IQR\n",
        "\n",
        "# Identify outliers beyond the bounds\n",
        "outliers = df[(df_cashback < lower_bound) | (df_cashback > upper_bound)]\n",
        "\n",
        "print(\"Data points beyond the interquartile range (using 1.5 IQR method):\")\n",
        "print(outliers)"
      ]
    },
    {
      "cell_type": "markdown",
      "metadata": {
        "id": "wc067l34L9Xj"
      },
      "source": [
        "Setelah melakukan prapemrosesan data, diketahui bahwa data tersebut bersifat kategorikal, yang berarti bahwa data kategorikal tersebut akan berada dalam format string. Untuk dapat memproses arti dari kategori-kategori ini, kita perlu membuat dummy variables untuk mewakili kategori-kategori ini."
      ]
    },
    {
      "cell_type": "code",
      "execution_count": 258,
      "metadata": {
        "colab": {
          "base_uri": "https://localhost:8080/",
          "height": 461
        },
        "id": "klRW-q6ZR6Jx",
        "outputId": "ad79afc7-ee0c-413c-df22-a08c5c394d47"
      },
      "outputs": [
        {
          "data": {
            "text/html": [
              "<div>\n",
              "<style scoped>\n",
              "    .dataframe tbody tr th:only-of-type {\n",
              "        vertical-align: middle;\n",
              "    }\n",
              "\n",
              "    .dataframe tbody tr th {\n",
              "        vertical-align: top;\n",
              "    }\n",
              "\n",
              "    .dataframe thead th {\n",
              "        text-align: right;\n",
              "    }\n",
              "</style>\n",
              "<table border=\"1\" class=\"dataframe\">\n",
              "  <thead>\n",
              "    <tr style=\"text-align: right;\">\n",
              "      <th></th>\n",
              "      <th>Tenure</th>\n",
              "      <th>WarehouseToHome</th>\n",
              "      <th>NumberOfDeviceRegistered</th>\n",
              "      <th>SatisfactionScore</th>\n",
              "      <th>NumberOfAddress</th>\n",
              "      <th>Complain</th>\n",
              "      <th>DaySinceLastOrder</th>\n",
              "      <th>CashbackAmount</th>\n",
              "      <th>Churn</th>\n",
              "      <th>PreferedOrderCat_Grocery</th>\n",
              "      <th>PreferedOrderCat_Laptop &amp; Accessory</th>\n",
              "      <th>PreferedOrderCat_Mobile</th>\n",
              "      <th>PreferedOrderCat_Mobile Phone</th>\n",
              "      <th>PreferedOrderCat_Others</th>\n",
              "      <th>MaritalStatus_Married</th>\n",
              "      <th>MaritalStatus_Single</th>\n",
              "    </tr>\n",
              "  </thead>\n",
              "  <tbody>\n",
              "    <tr>\n",
              "      <th>0</th>\n",
              "      <td>15.0</td>\n",
              "      <td>29.0</td>\n",
              "      <td>4</td>\n",
              "      <td>3</td>\n",
              "      <td>2</td>\n",
              "      <td>0</td>\n",
              "      <td>7.0</td>\n",
              "      <td>143.32</td>\n",
              "      <td>0</td>\n",
              "      <td>0</td>\n",
              "      <td>1</td>\n",
              "      <td>0</td>\n",
              "      <td>0</td>\n",
              "      <td>0</td>\n",
              "      <td>0</td>\n",
              "      <td>1</td>\n",
              "    </tr>\n",
              "    <tr>\n",
              "      <th>1</th>\n",
              "      <td>7.0</td>\n",
              "      <td>25.0</td>\n",
              "      <td>4</td>\n",
              "      <td>1</td>\n",
              "      <td>2</td>\n",
              "      <td>0</td>\n",
              "      <td>7.0</td>\n",
              "      <td>129.29</td>\n",
              "      <td>0</td>\n",
              "      <td>0</td>\n",
              "      <td>0</td>\n",
              "      <td>1</td>\n",
              "      <td>0</td>\n",
              "      <td>0</td>\n",
              "      <td>1</td>\n",
              "      <td>0</td>\n",
              "    </tr>\n",
              "    <tr>\n",
              "      <th>2</th>\n",
              "      <td>27.0</td>\n",
              "      <td>13.0</td>\n",
              "      <td>3</td>\n",
              "      <td>1</td>\n",
              "      <td>5</td>\n",
              "      <td>0</td>\n",
              "      <td>7.0</td>\n",
              "      <td>168.54</td>\n",
              "      <td>0</td>\n",
              "      <td>0</td>\n",
              "      <td>1</td>\n",
              "      <td>0</td>\n",
              "      <td>0</td>\n",
              "      <td>0</td>\n",
              "      <td>1</td>\n",
              "      <td>0</td>\n",
              "    </tr>\n",
              "    <tr>\n",
              "      <th>3</th>\n",
              "      <td>20.0</td>\n",
              "      <td>25.0</td>\n",
              "      <td>4</td>\n",
              "      <td>3</td>\n",
              "      <td>7</td>\n",
              "      <td>0</td>\n",
              "      <td>NaN</td>\n",
              "      <td>230.27</td>\n",
              "      <td>0</td>\n",
              "      <td>0</td>\n",
              "      <td>0</td>\n",
              "      <td>0</td>\n",
              "      <td>0</td>\n",
              "      <td>0</td>\n",
              "      <td>0</td>\n",
              "      <td>0</td>\n",
              "    </tr>\n",
              "    <tr>\n",
              "      <th>4</th>\n",
              "      <td>30.0</td>\n",
              "      <td>15.0</td>\n",
              "      <td>4</td>\n",
              "      <td>4</td>\n",
              "      <td>8</td>\n",
              "      <td>0</td>\n",
              "      <td>8.0</td>\n",
              "      <td>322.17</td>\n",
              "      <td>0</td>\n",
              "      <td>0</td>\n",
              "      <td>0</td>\n",
              "      <td>0</td>\n",
              "      <td>0</td>\n",
              "      <td>1</td>\n",
              "      <td>0</td>\n",
              "      <td>1</td>\n",
              "    </tr>\n",
              "    <tr>\n",
              "      <th>...</th>\n",
              "      <td>...</td>\n",
              "      <td>...</td>\n",
              "      <td>...</td>\n",
              "      <td>...</td>\n",
              "      <td>...</td>\n",
              "      <td>...</td>\n",
              "      <td>...</td>\n",
              "      <td>...</td>\n",
              "      <td>...</td>\n",
              "      <td>...</td>\n",
              "      <td>...</td>\n",
              "      <td>...</td>\n",
              "      <td>...</td>\n",
              "      <td>...</td>\n",
              "      <td>...</td>\n",
              "      <td>...</td>\n",
              "    </tr>\n",
              "    <tr>\n",
              "      <th>3936</th>\n",
              "      <td>28.0</td>\n",
              "      <td>9.0</td>\n",
              "      <td>5</td>\n",
              "      <td>3</td>\n",
              "      <td>8</td>\n",
              "      <td>0</td>\n",
              "      <td>1.0</td>\n",
              "      <td>231.86</td>\n",
              "      <td>0</td>\n",
              "      <td>0</td>\n",
              "      <td>0</td>\n",
              "      <td>0</td>\n",
              "      <td>0</td>\n",
              "      <td>0</td>\n",
              "      <td>1</td>\n",
              "      <td>0</td>\n",
              "    </tr>\n",
              "    <tr>\n",
              "      <th>3937</th>\n",
              "      <td>8.0</td>\n",
              "      <td>7.0</td>\n",
              "      <td>2</td>\n",
              "      <td>2</td>\n",
              "      <td>4</td>\n",
              "      <td>0</td>\n",
              "      <td>4.0</td>\n",
              "      <td>157.80</td>\n",
              "      <td>0</td>\n",
              "      <td>0</td>\n",
              "      <td>0</td>\n",
              "      <td>0</td>\n",
              "      <td>1</td>\n",
              "      <td>0</td>\n",
              "      <td>0</td>\n",
              "      <td>1</td>\n",
              "    </tr>\n",
              "    <tr>\n",
              "      <th>3938</th>\n",
              "      <td>30.0</td>\n",
              "      <td>6.0</td>\n",
              "      <td>5</td>\n",
              "      <td>3</td>\n",
              "      <td>3</td>\n",
              "      <td>1</td>\n",
              "      <td>2.0</td>\n",
              "      <td>156.60</td>\n",
              "      <td>0</td>\n",
              "      <td>0</td>\n",
              "      <td>1</td>\n",
              "      <td>0</td>\n",
              "      <td>0</td>\n",
              "      <td>0</td>\n",
              "      <td>1</td>\n",
              "      <td>0</td>\n",
              "    </tr>\n",
              "    <tr>\n",
              "      <th>3939</th>\n",
              "      <td>6.0</td>\n",
              "      <td>NaN</td>\n",
              "      <td>4</td>\n",
              "      <td>3</td>\n",
              "      <td>10</td>\n",
              "      <td>1</td>\n",
              "      <td>0.0</td>\n",
              "      <td>124.37</td>\n",
              "      <td>1</td>\n",
              "      <td>0</td>\n",
              "      <td>0</td>\n",
              "      <td>1</td>\n",
              "      <td>0</td>\n",
              "      <td>0</td>\n",
              "      <td>1</td>\n",
              "      <td>0</td>\n",
              "    </tr>\n",
              "    <tr>\n",
              "      <th>3940</th>\n",
              "      <td>2.0</td>\n",
              "      <td>7.0</td>\n",
              "      <td>3</td>\n",
              "      <td>5</td>\n",
              "      <td>1</td>\n",
              "      <td>0</td>\n",
              "      <td>2.0</td>\n",
              "      <td>153.73</td>\n",
              "      <td>0</td>\n",
              "      <td>0</td>\n",
              "      <td>1</td>\n",
              "      <td>0</td>\n",
              "      <td>0</td>\n",
              "      <td>0</td>\n",
              "      <td>1</td>\n",
              "      <td>0</td>\n",
              "    </tr>\n",
              "  </tbody>\n",
              "</table>\n",
              "<p>3941 rows × 16 columns</p>\n",
              "</div>"
            ],
            "text/plain": [
              "      Tenure  WarehouseToHome  NumberOfDeviceRegistered  SatisfactionScore  \\\n",
              "0       15.0             29.0                         4                  3   \n",
              "1        7.0             25.0                         4                  1   \n",
              "2       27.0             13.0                         3                  1   \n",
              "3       20.0             25.0                         4                  3   \n",
              "4       30.0             15.0                         4                  4   \n",
              "...      ...              ...                       ...                ...   \n",
              "3936    28.0              9.0                         5                  3   \n",
              "3937     8.0              7.0                         2                  2   \n",
              "3938    30.0              6.0                         5                  3   \n",
              "3939     6.0              NaN                         4                  3   \n",
              "3940     2.0              7.0                         3                  5   \n",
              "\n",
              "      NumberOfAddress  Complain  DaySinceLastOrder  CashbackAmount  Churn  \\\n",
              "0                   2         0                7.0          143.32      0   \n",
              "1                   2         0                7.0          129.29      0   \n",
              "2                   5         0                7.0          168.54      0   \n",
              "3                   7         0                NaN          230.27      0   \n",
              "4                   8         0                8.0          322.17      0   \n",
              "...               ...       ...                ...             ...    ...   \n",
              "3936                8         0                1.0          231.86      0   \n",
              "3937                4         0                4.0          157.80      0   \n",
              "3938                3         1                2.0          156.60      0   \n",
              "3939               10         1                0.0          124.37      1   \n",
              "3940                1         0                2.0          153.73      0   \n",
              "\n",
              "      PreferedOrderCat_Grocery  PreferedOrderCat_Laptop & Accessory  \\\n",
              "0                            0                                    1   \n",
              "1                            0                                    0   \n",
              "2                            0                                    1   \n",
              "3                            0                                    0   \n",
              "4                            0                                    0   \n",
              "...                        ...                                  ...   \n",
              "3936                         0                                    0   \n",
              "3937                         0                                    0   \n",
              "3938                         0                                    1   \n",
              "3939                         0                                    0   \n",
              "3940                         0                                    1   \n",
              "\n",
              "      PreferedOrderCat_Mobile  PreferedOrderCat_Mobile Phone  \\\n",
              "0                           0                              0   \n",
              "1                           1                              0   \n",
              "2                           0                              0   \n",
              "3                           0                              0   \n",
              "4                           0                              0   \n",
              "...                       ...                            ...   \n",
              "3936                        0                              0   \n",
              "3937                        0                              1   \n",
              "3938                        0                              0   \n",
              "3939                        1                              0   \n",
              "3940                        0                              0   \n",
              "\n",
              "      PreferedOrderCat_Others  MaritalStatus_Married  MaritalStatus_Single  \n",
              "0                           0                      0                     1  \n",
              "1                           0                      1                     0  \n",
              "2                           0                      1                     0  \n",
              "3                           0                      0                     0  \n",
              "4                           1                      0                     1  \n",
              "...                       ...                    ...                   ...  \n",
              "3936                        0                      1                     0  \n",
              "3937                        0                      0                     1  \n",
              "3938                        0                      1                     0  \n",
              "3939                        0                      1                     0  \n",
              "3940                        0                      1                     0  \n",
              "\n",
              "[3941 rows x 16 columns]"
            ]
          },
          "execution_count": 258,
          "metadata": {},
          "output_type": "execute_result"
        }
      ],
      "source": [
        "df = pd.get_dummies(df,drop_first=True).replace({True: 1, False: 0})\n",
        "df"
      ]
    },
    {
      "cell_type": "markdown",
      "metadata": {
        "id": "oY7893rLcatk"
      },
      "source": [
        "### Model Creation"
      ]
    },
    {
      "cell_type": "markdown",
      "metadata": {
        "id": "JmOTb-P0ifAM"
      },
      "source": [
        "Setelah melihat data dengan baik, di sini kita dapat melihat bahwa churn flag adalah variabel dummy, di mana:\n",
        "\n",
        "* 0 -> Pelanggan tidak akan melakukan churn\n",
        "* 1 -> Pelanggan akan melakukan churn\n",
        "\n",
        "Dari sini, kita dapat dengan aman mengatakan bahwa jenis model yang ingin kita buat untuk model pembelajaran mesin ini adalah model **Klasifikasi**, karena kita ingin **memprediksi** label churn yang benar berdasarkan perilaku pelanggan.\n",
        "LogisticRegression, KNeighbors, Decision Trees, Random Forest, dan juga membuat tuning hyperparameter sesuai model yang terpilih dengan RandomizedSearchCV.\n",
        "\n",
        "Kami akan menggunakan LogisticRegression karena dalam kasus kami, kami ingin memprediksi apakah pelanggan akan keluar dari platform e-commerce kami atau tidak melalui klasifikasi Churn.\n",
        "\n",
        "Cross Validation akan dilakukan dengan menggunakan StratifiedKFold dengan 5 fold karena kita ingin memastikan untuk label yang sama, ada distribusi observasi yang proporsional terhadap setiap labelnya."
      ]
    },
    {
      "cell_type": "code",
      "execution_count": 37,
      "metadata": {
        "colab": {
          "base_uri": "https://localhost:8080/"
        },
        "id": "26jc61_YOUCX",
        "outputId": "795be76d-5c1b-4c37-c0bd-cefd3f49f0e5"
      },
      "outputs": [
        {
          "name": "stdout",
          "output_type": "stream",
          "text": [
            "Collecting feature-engine\n",
            "  Downloading feature_engine-1.6.2-py2.py3-none-any.whl.metadata (8.8 kB)\n",
            "Requirement already satisfied: numpy>=1.18.2 in c:\\users\\great\\anaconda3\\lib\\site-packages (from feature-engine) (1.26.3)\n",
            "Requirement already satisfied: pandas>=1.0.3 in c:\\users\\great\\anaconda3\\lib\\site-packages (from feature-engine) (2.1.4)\n",
            "Requirement already satisfied: scikit-learn>=1.0.0 in c:\\users\\great\\anaconda3\\lib\\site-packages (from feature-engine) (1.2.2)\n",
            "Requirement already satisfied: scipy>=1.4.1 in c:\\users\\great\\anaconda3\\lib\\site-packages (from feature-engine) (1.11.4)\n",
            "Requirement already satisfied: statsmodels>=0.11.1 in c:\\users\\great\\anaconda3\\lib\\site-packages (from feature-engine) (0.14.0)\n",
            "Requirement already satisfied: python-dateutil>=2.8.2 in c:\\users\\great\\anaconda3\\lib\\site-packages (from pandas>=1.0.3->feature-engine) (2.8.2)\n",
            "Requirement already satisfied: pytz>=2020.1 in c:\\users\\great\\anaconda3\\lib\\site-packages (from pandas>=1.0.3->feature-engine) (2023.3.post1)\n",
            "Requirement already satisfied: tzdata>=2022.1 in c:\\users\\great\\anaconda3\\lib\\site-packages (from pandas>=1.0.3->feature-engine) (2023.3)\n",
            "Requirement already satisfied: joblib>=1.1.1 in c:\\users\\great\\anaconda3\\lib\\site-packages (from scikit-learn>=1.0.0->feature-engine) (1.2.0)\n",
            "Requirement already satisfied: threadpoolctl>=2.0.0 in c:\\users\\great\\anaconda3\\lib\\site-packages (from scikit-learn>=1.0.0->feature-engine) (2.2.0)\n",
            "Requirement already satisfied: patsy>=0.5.2 in c:\\users\\great\\anaconda3\\lib\\site-packages (from statsmodels>=0.11.1->feature-engine) (0.5.3)\n",
            "Requirement already satisfied: packaging>=21.3 in c:\\users\\great\\anaconda3\\lib\\site-packages (from statsmodels>=0.11.1->feature-engine) (23.1)\n",
            "Requirement already satisfied: six in c:\\users\\great\\anaconda3\\lib\\site-packages (from patsy>=0.5.2->statsmodels>=0.11.1->feature-engine) (1.16.0)\n",
            "Downloading feature_engine-1.6.2-py2.py3-none-any.whl (328 kB)\n",
            "   ---------------------------------------- 0.0/328.9 kB ? eta -:--:--\n",
            "   - -------------------------------------- 10.2/328.9 kB ? eta -:--:--\n",
            "   ------- -------------------------------- 61.4/328.9 kB 1.1 MB/s eta 0:00:01\n",
            "   --------------------------- ------------ 225.3/328.9 kB 2.8 MB/s eta 0:00:01\n",
            "   ---------------------------------------- 328.9/328.9 kB 2.5 MB/s eta 0:00:00\n",
            "Installing collected packages: feature-engine\n",
            "Successfully installed feature-engine-1.6.2\n"
          ]
        },
        {
          "name": "stderr",
          "output_type": "stream",
          "text": [
            "WARNING: Ignoring invalid distribution ~atplotlib (C:\\Users\\Great\\anaconda3\\Lib\\site-packages)\n",
            "WARNING: Ignoring invalid distribution ~atplotlib (C:\\Users\\Great\\anaconda3\\Lib\\site-packages)\n"
          ]
        }
      ],
      "source": [
        "!pip install feature-engine"
      ]
    },
    {
      "cell_type": "code",
      "execution_count": 129,
      "metadata": {
        "id": "RtXYpE9jeJbM"
      },
      "outputs": [],
      "source": [
        "from sklearn.model_selection import train_test_split, cross_val_score, RandomizedSearchCV, StratifiedKFold\n",
        "from sklearn.pipeline import Pipeline\n",
        "from sklearn.impute import SimpleImputer\n",
        "from sklearn.experimental import enable_iterative_imputer\n",
        "from sklearn.impute import IterativeImputer\n",
        "import pickle\n",
        "\n",
        "from sklearn.linear_model import LogisticRegression\n",
        "from sklearn.neighbors import KNeighborsClassifier\n",
        "from sklearn.tree import DecisionTreeClassifier\n",
        "from sklearn.ensemble import RandomForestClassifier\n",
        "from xgboost.sklearn import XGBClassifier\n",
        "\n",
        "from sklearn.preprocessing import StandardScaler, RobustScaler\n",
        "from sklearn.metrics import mean_squared_error, mean_absolute_error, mean_absolute_percentage_error, make_scorer, classification_report, f1_score"
      ]
    },
    {
      "cell_type": "code",
      "execution_count": 39,
      "metadata": {
        "id": "l_OVedR2d2c_"
      },
      "outputs": [],
      "source": [
        "# Assign X and y variables\n",
        "y = df['Churn']\n",
        "X = df.drop(['Churn'],axis=1)\n",
        "X_train, X_test, y_train, y_test=train_test_split(X, y, test_size=0.2, stratify=y, random_state=0)\n",
        "# Use about 20% of your data for testing and 80% for training.\n"
      ]
    },
    {
      "cell_type": "code",
      "execution_count": 138,
      "metadata": {
        "id": "8RNDXpbppQeZ"
      },
      "outputs": [
        {
          "name": "stdout",
          "output_type": "stream",
          "text": [
            "Classification Report for Pipeline_SimpleImputer_StandardScaler:\n",
            "              precision    recall  f1-score   support\n",
            "\n",
            "           0       0.93      0.81      0.87       654\n",
            "           1       0.44      0.71      0.54       135\n",
            "\n",
            "    accuracy                           0.79       789\n",
            "   macro avg       0.68      0.76      0.71       789\n",
            "weighted avg       0.85      0.79      0.81       789\n",
            "\n",
            "----------------------------------------\n",
            "Classification Report for Pipeline_SimpleImputer_RobustScaler:\n",
            "              precision    recall  f1-score   support\n",
            "\n",
            "           0       0.90      0.96      0.93       654\n",
            "           1       0.72      0.48      0.58       135\n",
            "\n",
            "    accuracy                           0.88       789\n",
            "   macro avg       0.81      0.72      0.75       789\n",
            "weighted avg       0.87      0.88      0.87       789\n",
            "\n",
            "----------------------------------------\n",
            "Classification Report for Pipeline_IterativeImputer_StandardScaler:\n",
            "              precision    recall  f1-score   support\n",
            "\n",
            "           0       0.93      0.81      0.87       654\n",
            "           1       0.44      0.73      0.55       135\n",
            "\n",
            "    accuracy                           0.79       789\n",
            "   macro avg       0.69      0.77      0.71       789\n",
            "weighted avg       0.85      0.79      0.81       789\n",
            "\n",
            "----------------------------------------\n",
            "Classification Report for Pipeline_IterativeImputer_RobustScaler:\n",
            "              precision    recall  f1-score   support\n",
            "\n",
            "           0       0.90      0.96      0.93       654\n",
            "           1       0.73      0.50      0.59       135\n",
            "\n",
            "    accuracy                           0.88       789\n",
            "   macro avg       0.82      0.73      0.76       789\n",
            "weighted avg       0.87      0.88      0.87       789\n",
            "\n",
            "----------------------------------------\n"
          ]
        }
      ],
      "source": [
        "def make_pipeline_and_generate_report(X_train, X_test, y_train, y_test):\n",
        "  # Logistic Regression Model\n",
        "  lr = LogisticRegression()\n",
        "  simple_imputer = SimpleImputer()\n",
        "  multi_imputer = IterativeImputer(random_state=42)\n",
        "  rob_scaler = RobustScaler()\n",
        "  scaler = StandardScaler()\n",
        "  lr_pipeline_model = Pipeline([('imputer',simple_imputer),('normalizer',scaler), ('lr_modelling',lr)])\n",
        "  lr_pipeline_model2 = Pipeline([('imputer',simple_imputer),('normalizer',rob_scaler), ('lr_modelling',lr)])\n",
        "  lr_pipeline_model3 = Pipeline([('imputer',multi_imputer),('normalizer',scaler), ('lr_modelling',lr)])\n",
        "  lr_pipeline_model4 = Pipeline([('imputer',multi_imputer),('normalizer',rob_scaler), ('lr_modelling',lr)])\n",
        "\n",
        "\n",
        "  lr_pipeline_model.fit(X_train,y_train)\n",
        "  lr_pipeline_model2.fit(X_train,y_train)\n",
        "  lr_pipeline_model3.fit(X_train,y_train)\n",
        "  lr_pipeline_model4.fit(X_train,y_train)\n",
        "  # lr_pipeline_list = [lr_pipeline_model, lr_pipeline_model2, lr_pipeline_model3, lr_pipeline_model4]\n",
        "  lr_preds = lr_pipeline_model.predict(X_test)\n",
        "  lr_preds2 = lr_pipeline_model2.predict(X_test)\n",
        "  lr_preds3 = lr_pipeline_model3.predict(X_test)\n",
        "  lr_preds4 = lr_pipeline_model4.predict(X_test)\n",
        "  # lr_score = mean_absolute_error(y_test, lr_preds)\n",
        "  print(f'Classification Report for Pipeline_SimpleImputer_StandardScaler:')\n",
        "  print(classification_report(y_test,lr_preds)) #model 1\n",
        "  print('----------------------------------------')\n",
        "\n",
        "  print(f'Classification Report for Pipeline_SimpleImputer_RobustScaler:')\n",
        "  print(classification_report(y_test,lr_preds2)) #model 2\n",
        "  print('----------------------------------------')\n",
        "\n",
        "  print(f'Classification Report for Pipeline_IterativeImputer_StandardScaler:')\n",
        "  print(classification_report(y_test,lr_preds3)) #model 3\n",
        "  print('----------------------------------------')\n",
        "\n",
        "  print(f'Classification Report for Pipeline_IterativeImputer_RobustScaler:')\n",
        "  print(classification_report(y_test,lr_preds4)) #model 4\n",
        "  print('----------------------------------------')\n",
        "\n",
        "make_pipeline_and_generate_report(X_train, X_test, y_train, y_test)"
      ]
    },
    {
      "cell_type": "markdown",
      "metadata": {},
      "source": [
        "Disini kita membuat function untuk test fit dan transform yang mana yang lebih baik untuk modelling kita ini. Dari hasil classification report untuk Logistic Regression ini, kita bisa lihat bahwa tiveImputer dan RobustScaler menghasilkan skor yang lebih bagus dibanding SimpleImputer dan StandardScaler. Hal ini ada kemungkinan karena adanya outlier yang mungkin sangat berpengaruh saat menggunakan StandardScaler.\n",
        "Saat dibanding hasil SimpleImputer dan IterativeImputer, bisa dilihat bahwa hasil f1-score dll tidak berbeda jauh. Ini juga memastikan bahwa data-data yang missing adalah Missing at Random (MAR). "
      ]
    },
    {
      "cell_type": "code",
      "execution_count": 139,
      "metadata": {
        "id": "gV_9isjmtSGX"
      },
      "outputs": [],
      "source": [
        "lr = LogisticRegression()\n",
        "simple_imputer = SimpleImputer()\n",
        "multi_imputer = IterativeImputer(random_state=42)\n",
        "rob_scaler = RobustScaler()\n",
        "scaler = StandardScaler()\n",
        "lr_pipeline_model = Pipeline([('imputer',multi_imputer),('normalizer',rob_scaler), ('lr_modelling',lr)])"
      ]
    },
    {
      "cell_type": "code",
      "execution_count": 140,
      "metadata": {
        "colab": {
          "base_uri": "https://localhost:8080/"
        },
        "id": "ufn3OLnsLpyd",
        "outputId": "d09aecf8-38df-4ef0-f2b5-41d37c10d675"
      },
      "outputs": [
        {
          "name": "stdout",
          "output_type": "stream",
          "text": [
            "Classification Report for Pipeline_SimpleImputer_StandardScaler:\n",
            "              precision    recall  f1-score   support\n",
            "\n",
            "           0       0.92      0.95      0.93       654\n",
            "           1       0.71      0.58      0.64       135\n",
            "\n",
            "    accuracy                           0.89       789\n",
            "   macro avg       0.81      0.76      0.78       789\n",
            "weighted avg       0.88      0.89      0.88       789\n",
            "\n",
            "----------------------------------------\n",
            "Classification Report for Pipeline_SimpleImputer_RobustScaler:\n",
            "              precision    recall  f1-score   support\n",
            "\n",
            "           0       0.89      0.96      0.93       654\n",
            "           1       0.70      0.44      0.54       135\n",
            "\n",
            "    accuracy                           0.87       789\n",
            "   macro avg       0.80      0.70      0.73       789\n",
            "weighted avg       0.86      0.87      0.86       789\n",
            "\n",
            "----------------------------------------\n",
            "Classification Report for Pipeline_IterativeImputer_StandardScaler:\n",
            "              precision    recall  f1-score   support\n",
            "\n",
            "           0       0.92      0.95      0.94       654\n",
            "           1       0.72      0.59      0.65       135\n",
            "\n",
            "    accuracy                           0.89       789\n",
            "   macro avg       0.82      0.77      0.79       789\n",
            "weighted avg       0.88      0.89      0.89       789\n",
            "\n",
            "----------------------------------------\n",
            "Classification Report for Pipeline_IterativeImputer_RobustScaler:\n",
            "              precision    recall  f1-score   support\n",
            "\n",
            "           0       0.90      0.96      0.93       654\n",
            "           1       0.72      0.47      0.57       135\n",
            "\n",
            "    accuracy                           0.88       789\n",
            "   macro avg       0.81      0.71      0.75       789\n",
            "weighted avg       0.87      0.88      0.87       789\n",
            "\n",
            "----------------------------------------\n"
          ]
        }
      ],
      "source": [
        "def make_pipeline_and_generate_report_kn(X_train, X_test, y_train, y_test):\n",
        "  # KNeighbors Regression Model\n",
        "  kn = KNeighborsClassifier(n_neighbors= 5)\n",
        "  simple_imputer = SimpleImputer()\n",
        "  multi_imputer = IterativeImputer(random_state=42)\n",
        "  rob_scaler = RobustScaler()\n",
        "  scaler = StandardScaler()\n",
        "  kn_pipeline_model = Pipeline([('imputer',simple_imputer),('normalizer',scaler), ('kn_modelling',kn)])\n",
        "  kn_pipeline_model2 = Pipeline([('imputer',simple_imputer),('normalizer',rob_scaler), ('kn_modelling',kn)])\n",
        "  kn_pipeline_model3 = Pipeline([('imputer',multi_imputer),('normalizer',scaler), ('kn_modelling',kn)])\n",
        "  kn_pipeline_model4 = Pipeline([('imputer',multi_imputer),('normalizer',rob_scaler), ('kn_modelling',kn)])\n",
        "\n",
        "\n",
        "  kn_pipeline_model.fit(X_train,y_train)\n",
        "  kn_pipeline_model2.fit(X_train,y_train)\n",
        "  kn_pipeline_model3.fit(X_train,y_train)\n",
        "  kn_pipeline_model4.fit(X_train,y_train)\n",
        "  # kn_pipeline_list = [kn_pipeline_model, kn_pipeline_model2, kn_pipeline_model3, kn_pipeline_model4]\n",
        "  kn_preds = kn_pipeline_model.predict(X_test)\n",
        "  kn_preds2 = kn_pipeline_model2.predict(X_test)\n",
        "  kn_preds3 = kn_pipeline_model3.predict(X_test)\n",
        "  kn_preds4 = kn_pipeline_model4.predict(X_test)\n",
        "  # kn_score = mean_absolute_error(y_test, kn_preds)\n",
        "  print(f'Classification Report for Pipeline_SimpleImputer_StandardScaler:')\n",
        "  print(classification_report(y_test,kn_preds)) #model 1\n",
        "  print('----------------------------------------')\n",
        "\n",
        "  print(f'Classification Report for Pipeline_SimpleImputer_RobustScaler:')\n",
        "  print(classification_report(y_test,kn_preds2)) #model 2\n",
        "  print('----------------------------------------')\n",
        "\n",
        "  print(f'Classification Report for Pipeline_IterativeImputer_StandardScaler:')\n",
        "  print(classification_report(y_test,kn_preds3)) #model 3\n",
        "  print('----------------------------------------')\n",
        "\n",
        "  print(f'Classification Report for Pipeline_IterativeImputer_RobustScaler:')\n",
        "  print(classification_report(y_test,kn_preds4)) #model 4\n",
        "  print('----------------------------------------')\n",
        "\n",
        "make_pipeline_and_generate_report_kn(X_train, X_test, y_train, y_test)"
      ]
    },
    {
      "cell_type": "code",
      "execution_count": 141,
      "metadata": {
        "id": "AVtde3fQcsZp"
      },
      "outputs": [],
      "source": [
        "# KNeighbours Regression Model\n",
        "kn = KNeighborsClassifier(n_neighbors= 5)\n",
        "simple_imputer = SimpleImputer()\n",
        "multi_imputer = IterativeImputer(random_state=42)\n",
        "rob_scaler = RobustScaler()\n",
        "scaler = StandardScaler()\n",
        "kn_pipeline_model = Pipeline([('imputer',multi_imputer),('normalizer',rob_scaler), ('kn_modelling',kn)])"
      ]
    },
    {
      "cell_type": "code",
      "execution_count": 142,
      "metadata": {
        "colab": {
          "base_uri": "https://localhost:8080/"
        },
        "id": "4SOYWhW2O9bz",
        "outputId": "8c0343d2-e7dc-4d04-829e-c5c421a54971"
      },
      "outputs": [
        {
          "name": "stdout",
          "output_type": "stream",
          "text": [
            "Classification Report for Pipeline_SimpleImputer_StandardScaler:\n",
            "              precision    recall  f1-score   support\n",
            "\n",
            "           0       0.94      0.79      0.86       654\n",
            "           1       0.42      0.74      0.53       135\n",
            "\n",
            "    accuracy                           0.78       789\n",
            "   macro avg       0.68      0.76      0.70       789\n",
            "weighted avg       0.85      0.78      0.80       789\n",
            "\n",
            "----------------------------------------\n",
            "Classification Report for Pipeline_SimpleImputer_RobustScaler:\n",
            "              precision    recall  f1-score   support\n",
            "\n",
            "           0       0.96      0.93      0.95       654\n",
            "           1       0.71      0.81      0.76       135\n",
            "\n",
            "    accuracy                           0.91       789\n",
            "   macro avg       0.84      0.87      0.85       789\n",
            "weighted avg       0.92      0.91      0.91       789\n",
            "\n",
            "----------------------------------------\n",
            "Classification Report for Pipeline_IterativeImputer_StandardScaler:\n",
            "              precision    recall  f1-score   support\n",
            "\n",
            "           0       0.94      0.80      0.86       654\n",
            "           1       0.43      0.74      0.54       135\n",
            "\n",
            "    accuracy                           0.79       789\n",
            "   macro avg       0.68      0.77      0.70       789\n",
            "weighted avg       0.85      0.79      0.81       789\n",
            "\n",
            "----------------------------------------\n",
            "Classification Report for Pipeline_IterativeImputer_RobustScaler:\n",
            "              precision    recall  f1-score   support\n",
            "\n",
            "           0       0.96      0.94      0.95       654\n",
            "           1       0.75      0.82      0.78       135\n",
            "\n",
            "    accuracy                           0.92       789\n",
            "   macro avg       0.86      0.88      0.87       789\n",
            "weighted avg       0.93      0.92      0.92       789\n",
            "\n",
            "----------------------------------------\n"
          ]
        }
      ],
      "source": [
        "def make_pipeline_and_generate_report_dtr(X_train, X_test, y_train, y_test):\n",
        "\n",
        "    dtr = DecisionTreeClassifier()\n",
        "    simple_imputer = SimpleImputer()\n",
        "    multi_imputer = IterativeImputer(random_state=42)\n",
        "    rob_scaler = RobustScaler()\n",
        "    scaler = StandardScaler()\n",
        "    dtr_pipeline_model = Pipeline([('imputer',simple_imputer),('normalizer',scaler), ('dtr_modelling',dtr)])\n",
        "    dtr_pipeline_model2 = Pipeline([('imputer',simple_imputer),('normalizer',rob_scaler), ('dtr_modelling',dtr)])\n",
        "    dtr_pipeline_model3 = Pipeline([('imputer',multi_imputer),('normalizer',scaler), ('dtr_modelling',dtr)])\n",
        "    dtr_pipeline_model4 = Pipeline([('imputer',multi_imputer),('normalizer',rob_scaler), ('dtr_modelling',dtr)])\n",
        "\n",
        "\n",
        "    dtr_pipeline_model.fit(X_train,y_train)\n",
        "    dtr_pipeline_model2.fit(X_train,y_train)\n",
        "    dtr_pipeline_model3.fit(X_train,y_train)\n",
        "    dtr_pipeline_model4.fit(X_train,y_train)\n",
        "    # dtr_pipeline_list = [dtr_pipeline_model, dtr_pipeline_model2, dtr_pipeline_model3, dtr_pipeline_model4]\n",
        "    dtr_preds = dtr_pipeline_model.predict(X_test)\n",
        "    dtr_preds2 = dtr_pipeline_model2.predict(X_test)\n",
        "    dtr_preds3 = dtr_pipeline_model3.predict(X_test)\n",
        "    dtr_preds4 = dtr_pipeline_model4.predict(X_test)\n",
        "\n",
        "    print(f'Classification Report for Pipeline_SimpleImputer_StandardScaler:')\n",
        "    print(classification_report(y_test,dtr_preds)) #model 1\n",
        "    print('----------------------------------------')\n",
        "\n",
        "    print(f'Classification Report for Pipeline_SimpleImputer_RobustScaler:')\n",
        "    print(classification_report(y_test,dtr_preds2)) #model 2\n",
        "    print('----------------------------------------')\n",
        "\n",
        "    print(f'Classification Report for Pipeline_IterativeImputer_StandardScaler:')\n",
        "    print(classification_report(y_test,dtr_preds3)) #model 3\n",
        "    print('----------------------------------------')\n",
        "\n",
        "    print(f'Classification Report for Pipeline_IterativeImputer_RobustScaler:')\n",
        "    print(classification_report(y_test,dtr_preds4)) #model 4\n",
        "    print('----------------------------------------')\n",
        "\n",
        "make_pipeline_and_generate_report_dtr(X_train, X_test, y_train, y_test)"
      ]
    },
    {
      "cell_type": "code",
      "execution_count": 143,
      "metadata": {
        "id": "Cvy2UeDydNxg"
      },
      "outputs": [],
      "source": [
        "# Decision Tree Regression Model\n",
        "dtr = DecisionTreeClassifier()\n",
        "simple_imputer = SimpleImputer()\n",
        "multi_imputer = IterativeImputer(random_state=42)\n",
        "rob_scaler = RobustScaler()\n",
        "scaler = StandardScaler()\n",
        "dtr_pipeline_model = Pipeline([('imputer',multi_imputer),('normalizer',rob_scaler), ('dtr_modelling',dtr)])"
      ]
    },
    {
      "cell_type": "code",
      "execution_count": 144,
      "metadata": {
        "colab": {
          "base_uri": "https://localhost:8080/"
        },
        "id": "D_GaU9C5R8M-",
        "outputId": "97a0bdb8-fdbc-45a3-f21a-e85b8cf13c73"
      },
      "outputs": [
        {
          "name": "stdout",
          "output_type": "stream",
          "text": [
            "Classification Report for Pipeline_SimpleImputer_StandardScaler:\n",
            "              precision    recall  f1-score   support\n",
            "\n",
            "           0       0.94      0.93      0.94       654\n",
            "           1       0.69      0.72      0.71       135\n",
            "\n",
            "    accuracy                           0.90       789\n",
            "   macro avg       0.82      0.83      0.82       789\n",
            "weighted avg       0.90      0.90      0.90       789\n",
            "\n",
            "----------------------------------------\n",
            "Classification Report for Pipeline_SimpleImputer_RobustScaler:\n",
            "              precision    recall  f1-score   support\n",
            "\n",
            "           0       0.95      0.99      0.97       654\n",
            "           1       0.92      0.75      0.82       135\n",
            "\n",
            "    accuracy                           0.95       789\n",
            "   macro avg       0.93      0.87      0.90       789\n",
            "weighted avg       0.94      0.95      0.94       789\n",
            "\n",
            "----------------------------------------\n",
            "Classification Report for Pipeline_IterativeImputer_StandardScaler:\n",
            "              precision    recall  f1-score   support\n",
            "\n",
            "           0       0.95      0.94      0.94       654\n",
            "           1       0.72      0.76      0.74       135\n",
            "\n",
            "    accuracy                           0.91       789\n",
            "   macro avg       0.84      0.85      0.84       789\n",
            "weighted avg       0.91      0.91      0.91       789\n",
            "\n",
            "----------------------------------------\n",
            "Classification Report for Pipeline_IterativeImputer_RobustScaler:\n",
            "              precision    recall  f1-score   support\n",
            "\n",
            "           0       0.96      0.99      0.97       654\n",
            "           1       0.93      0.79      0.85       135\n",
            "\n",
            "    accuracy                           0.95       789\n",
            "   macro avg       0.94      0.89      0.91       789\n",
            "weighted avg       0.95      0.95      0.95       789\n",
            "\n",
            "----------------------------------------\n"
          ]
        }
      ],
      "source": [
        "def make_pipeline_and_generate_report_rf(X_train, X_test, y_train, y_test):\n",
        "\n",
        "    rf = RandomForestClassifier()\n",
        "    simple_imputer = SimpleImputer()\n",
        "    multi_imputer = IterativeImputer(random_state=42)\n",
        "    rob_scaler = RobustScaler()\n",
        "    scaler = StandardScaler()\n",
        "    rf_pipeline_model = Pipeline([('imputer',simple_imputer),('normalizer',scaler), ('rf_modelling',rf)])\n",
        "    rf_pipeline_model2 = Pipeline([('imputer',simple_imputer),('normalizer',rob_scaler), ('rf_modelling',rf)])\n",
        "    rf_pipeline_model3 = Pipeline([('imputer',multi_imputer),('normalizer',scaler), ('rf_modelling',rf)])\n",
        "    rf_pipeline_model4 = Pipeline([('imputer',multi_imputer),('normalizer',rob_scaler), ('rf_modelling',rf)])\n",
        "\n",
        "\n",
        "    rf_pipeline_model.fit(X_train,y_train)\n",
        "    rf_pipeline_model2.fit(X_train,y_train)\n",
        "    rf_pipeline_model3.fit(X_train,y_train)\n",
        "    rf_pipeline_model4.fit(X_train,y_train)\n",
        "    # rf_pipeline_list = [rf_pipeline_model, rf_pipeline_model2, rf_pipeline_model3, rf_pipeline_model4]\n",
        "    rf_preds = rf_pipeline_model.predict(X_test)\n",
        "    rf_preds2 = rf_pipeline_model2.predict(X_test)\n",
        "    rf_preds3 = rf_pipeline_model3.predict(X_test)\n",
        "    rf_preds4 = rf_pipeline_model4.predict(X_test)\n",
        "\n",
        "    print(f'Classification Report for Pipeline_SimpleImputer_StandardScaler:')\n",
        "    print(classification_report(y_test,rf_preds)) #model 1\n",
        "    print('----------------------------------------')\n",
        "\n",
        "    print(f'Classification Report for Pipeline_SimpleImputer_RobustScaler:')\n",
        "    print(classification_report(y_test,rf_preds2)) #model 2\n",
        "    print('----------------------------------------')\n",
        "\n",
        "    print(f'Classification Report for Pipeline_IterativeImputer_StandardScaler:')\n",
        "    print(classification_report(y_test,rf_preds3)) #model 3\n",
        "    print('----------------------------------------')\n",
        "\n",
        "    print(f'Classification Report for Pipeline_IterativeImputer_RobustScaler:')\n",
        "    print(classification_report(y_test,rf_preds4)) #model 4\n",
        "    print('----------------------------------------')\n",
        "\n",
        "make_pipeline_and_generate_report_rf(X_train, X_test, y_train, y_test)"
      ]
    },
    {
      "cell_type": "code",
      "execution_count": 145,
      "metadata": {
        "id": "_Pe0TaeudmSA"
      },
      "outputs": [],
      "source": [
        "# Random Forest Classifier Model\n",
        "rf = RandomForestClassifier()\n",
        "simple_imputer = SimpleImputer()\n",
        "multi_imputer = IterativeImputer(random_state=42)\n",
        "rob_scaler = RobustScaler()\n",
        "rf_pipeline_model = Pipeline([('imputer',multi_imputer),('normalizer',rob_scaler), ('rf_modelling',rf)])"
      ]
    },
    {
      "cell_type": "code",
      "execution_count": 146,
      "metadata": {
        "colab": {
          "base_uri": "https://localhost:8080/"
        },
        "id": "oNQ1berxSFpF",
        "outputId": "def38c8c-2cbd-412e-b977-39b7def5af54"
      },
      "outputs": [
        {
          "name": "stdout",
          "output_type": "stream",
          "text": [
            "Classification Report for Pipeline_SimpleImputer_StandardScaler:\n",
            "              precision    recall  f1-score   support\n",
            "\n",
            "           0       0.94      0.90      0.92       654\n",
            "           1       0.59      0.70      0.64       135\n",
            "\n",
            "    accuracy                           0.86       789\n",
            "   macro avg       0.76      0.80      0.78       789\n",
            "weighted avg       0.88      0.86      0.87       789\n",
            "\n",
            "----------------------------------------\n",
            "Classification Report for Pipeline_SimpleImputer_RobustScaler:\n",
            "              precision    recall  f1-score   support\n",
            "\n",
            "           0       0.96      0.97      0.97       654\n",
            "           1       0.85      0.81      0.83       135\n",
            "\n",
            "    accuracy                           0.94       789\n",
            "   macro avg       0.91      0.89      0.90       789\n",
            "weighted avg       0.94      0.94      0.94       789\n",
            "\n",
            "----------------------------------------\n",
            "Classification Report for Pipeline_IterativeImputer_StandardScaler:\n",
            "              precision    recall  f1-score   support\n",
            "\n",
            "           0       0.95      0.90      0.92       654\n",
            "           1       0.60      0.75      0.67       135\n",
            "\n",
            "    accuracy                           0.87       789\n",
            "   macro avg       0.77      0.82      0.79       789\n",
            "weighted avg       0.89      0.87      0.88       789\n",
            "\n",
            "----------------------------------------\n",
            "Classification Report for Pipeline_IterativeImputer_RobustScaler:\n",
            "              precision    recall  f1-score   support\n",
            "\n",
            "           0       0.96      0.97      0.97       654\n",
            "           1       0.86      0.81      0.84       135\n",
            "\n",
            "    accuracy                           0.95       789\n",
            "   macro avg       0.91      0.89      0.90       789\n",
            "weighted avg       0.94      0.95      0.94       789\n",
            "\n",
            "----------------------------------------\n"
          ]
        }
      ],
      "source": [
        "def make_pipeline_and_generate_report_xgb(X_train, X_test, y_train, y_test):\n",
        "\n",
        "    xgb = XGBClassifier()\n",
        "    simple_imputer = SimpleImputer()\n",
        "    multi_imputer = IterativeImputer(random_state=42)\n",
        "    rob_scaler = RobustScaler()\n",
        "    scaler = StandardScaler()\n",
        "    xgb_pipeline_model = Pipeline([('imputer',simple_imputer),('normalizer',scaler), ('xgb_modelling',xgb)])\n",
        "    xgb_pipeline_model2 = Pipeline([('imputer',simple_imputer),('normalizer',rob_scaler), ('xgb_modelling',xgb)])\n",
        "    xgb_pipeline_model3 = Pipeline([('imputer',multi_imputer),('normalizer',scaler), ('xgb_modelling',xgb)])\n",
        "    xgb_pipeline_model4 = Pipeline([('imputer',multi_imputer),('normalizer',rob_scaler), ('xgb_modelling',xgb)])\n",
        "\n",
        "\n",
        "    xgb_pipeline_model.fit(X_train,y_train)\n",
        "    xgb_pipeline_model2.fit(X_train,y_train)\n",
        "    xgb_pipeline_model3.fit(X_train,y_train)\n",
        "    xgb_pipeline_model4.fit(X_train,y_train)\n",
        "    # xgb_pipeline_list = [xgb_pipeline_model, xgb_pipeline_model2, xgb_pipeline_model3, xgb_pipeline_model4]\n",
        "    xgb_preds = xgb_pipeline_model.predict(X_test)\n",
        "    xgb_preds2 = xgb_pipeline_model2.predict(X_test)\n",
        "    xgb_preds3 = xgb_pipeline_model3.predict(X_test)\n",
        "    xgb_preds4 = xgb_pipeline_model4.predict(X_test)\n",
        "\n",
        "    print(f'Classification Report for Pipeline_SimpleImputer_StandardScaler:')\n",
        "    print(classification_report(y_test,xgb_preds)) #model 1\n",
        "    print('----------------------------------------')\n",
        "\n",
        "    print(f'Classification Report for Pipeline_SimpleImputer_RobustScaler:')\n",
        "    print(classification_report(y_test,xgb_preds2)) #model 2\n",
        "    print('----------------------------------------')\n",
        "\n",
        "    print(f'Classification Report for Pipeline_IterativeImputer_StandardScaler:')\n",
        "    print(classification_report(y_test,xgb_preds3)) #model 3\n",
        "    print('----------------------------------------')\n",
        "\n",
        "    print(f'Classification Report for Pipeline_IterativeImputer_RobustScaler:')\n",
        "    print(classification_report(y_test,xgb_preds4)) #model 4\n",
        "    print('----------------------------------------')\n",
        "\n",
        "make_pipeline_and_generate_report_xgb(X_train, X_test, y_train, y_test)"
      ]
    },
    {
      "cell_type": "code",
      "execution_count": 147,
      "metadata": {
        "id": "JO7YjR94d3cp"
      },
      "outputs": [],
      "source": [
        "# XGBoost Regressor Model\n",
        "xgb = XGBClassifier()\n",
        "simple_imputer = SimpleImputer()\n",
        "multi_imputer = IterativeImputer(random_state=42)\n",
        "rob_scaler = RobustScaler()\n",
        "xgb_pipeline_model = Pipeline([('imputer',multi_imputer),('normalizer',rob_scaler), ('xgb_modelling',xgb)])"
      ]
    },
    {
      "cell_type": "markdown",
      "metadata": {
        "id": "TDnhekaqhI3f"
      },
      "source": [
        "Setelah bereksperimen lebih lanjut dengan model fitting dari model-model lainnya, ditemukan bahwa antara SimpleImputer dan IterativeImputer, tidak banyak perbedaan yang signifikan di antara hasilnya, yang selanjutnya mengindikasikan bahwa variabel-variabel yang hilang adalah Missing at Random (MAR).\n",
        "Namun, setelah bereksperimen antara StandardScaler dan RobustScaler, RobustScaler jauh mengungguli StandardScaler, yang mungkin disebabkan oleh adanya outlier di dalam data."
      ]
    },
    {
      "cell_type": "code",
      "execution_count": 51,
      "metadata": {
        "id": "yYnrUEHsx9e2"
      },
      "outputs": [],
      "source": [
        "# Define SMAPE scoring function\n",
        "def smape(A, F):\n",
        "    numerator = np.abs(F - A)\n",
        "    denominator = (np.abs(A) + np.abs(F))\n",
        "    return 100 * np.mean(2 * numerator / denominator)\n",
        "\n",
        "# Define SMAPE scoring as a string for use in cross_val_score\n",
        "smape_scorer = make_scorer(smape, greater_is_better=False)\n"
      ]
    },
    {
      "cell_type": "code",
      "execution_count": 148,
      "metadata": {
        "colab": {
          "base_uri": "https://localhost:8080/"
        },
        "id": "DtClcNAAtHZ3",
        "outputId": "20062ef5-62ef-483e-80ff-b2694873d198"
      },
      "outputs": [
        {
          "name": "stdout",
          "output_type": "stream",
          "text": [
            "                Model       MAE          MAPE      RMSE       SMAPE   ROC_AUC\n",
            "0   lr_pipeline_model  0.122469  1.385984e+14  0.349353  121.226249 -0.885701\n",
            "1   kn_pipeline_model  0.123100  1.257242e+14  0.350647  123.818362 -0.862228\n",
            "2  dtr_pipeline_model  0.092000  2.128801e+14  0.305683   85.450517 -0.835108\n",
            "3   rf_pipeline_model  0.074875  9.858230e+13  0.271610   75.550381 -0.958006\n",
            "4  xgb_pipeline_model  0.062820  1.143024e+14  0.250192   63.827250 -0.956272\n"
          ]
        }
      ],
      "source": [
        "model_dict = {\n",
        "    'lr_pipeline_model': lr_pipeline_model,\n",
        "    'kn_pipeline_model': kn_pipeline_model,\n",
        "    'dtr_pipeline_model': dtr_pipeline_model,\n",
        "    'rf_pipeline_model': rf_pipeline_model,\n",
        "    'xgb_pipeline_model': xgb_pipeline_model\n",
        "}\n",
        "\n",
        "skfoldcv = StratifiedKFold(5)\n",
        "\n",
        "# Define scoring metrics\n",
        "scoring_metrics = {\n",
        "    'MAE': 'neg_mean_absolute_error',\n",
        "    'MAPE': 'neg_mean_absolute_percentage_error',\n",
        "    'RMSE': 'neg_root_mean_squared_error',\n",
        "    'SMAPE': smape_scorer,\n",
        "    'ROC_AUC': 'roc_auc'\n",
        "}\n",
        "\n",
        "# Cross-validate each model and calculate metrics\n",
        "results = []\n",
        "for model_name, model in model_dict.items():\n",
        "    model_results = {'Model': model_name}\n",
        "    for metric_name, scoring_metric in scoring_metrics.items():\n",
        "        scores = cross_val_score(model, X_train, y_train, cv=skfoldcv, scoring=scoring_metric)\n",
        "        mean_score = -scores.mean()\n",
        "        model_results[metric_name] = mean_score\n",
        "    results.append(model_results)\n",
        "\n",
        "# Create DataFrame from results\n",
        "results_df = pd.DataFrame(results)\n",
        "\n",
        "print(results_df)"
      ]
    },
    {
      "cell_type": "markdown",
      "metadata": {
        "id": "9iNkM58sZgcH"
      },
      "source": [
        "MAPE dan SMAPE tampaknya bukan merupakan penentu yang baik untuk menentukan model yang paling sesuai, karena angkanya sangat miring. Hal ini bisa jadi karena model kami memiliki banyak nilai 0 atau 1 dari penggunaan variabel dummy, dan metode perhitungan MAPE dan SMAPE sedemikian rupa sehingga adanya terlalu banyak nilai 0 akan membuat perhitungan menjadi miring.\n",
        "Disini kita juga ada input skor metrik ROC_AUC, karena ROC_AUC skor ini menunjukan ke-efisienan model yang telah dibuat, dan juga menunjukan kemampuan model dalam membedakan nilai positif atau negatif secara terkeseluruhan."
      ]
    },
    {
      "cell_type": "markdown",
      "metadata": {
        "id": "hoLQB1KZa_28"
      },
      "source": [
        "Di sini kita dapat melihat bahwa dari nilai MAE dan RMSE, Model Klasifikasi XGB memberikan hasil yang paling baik, dengan nilai yang paling kecil. \n",
        "Setelah dilihat dari hasil MAE dan RMSE, bisa disimpulkan bahwa LogisticRegression dan KN Models tidak begitu bagus dibanding tree models.\n",
        "Namun, dari nilai ROC_AUC, Random Forest Classifier memiliki performa yang sedikit lebih baik dibandingkan dengan XGB Classifier.\n",
        "Kita dapat menguji lebih lanjut kapasitas dari kedua model ini dengan melakukan pemodelan benchmark dengan menggunakan test set dan bukan training set."
      ]
    },
    {
      "cell_type": "markdown",
      "metadata": {
        "id": "SLruxWp8baxj"
      },
      "source": [
        "## Benchmark Modelling"
      ]
    },
    {
      "cell_type": "code",
      "execution_count": 254,
      "metadata": {
        "colab": {
          "base_uri": "https://localhost:8080/"
        },
        "id": "XEVFvOFJtIfO",
        "outputId": "a9c8cb83-3075-4e8f-8ccd-a59e11172b1e"
      },
      "outputs": [
        {
          "name": "stdout",
          "output_type": "stream",
          "text": [
            "                Model        F1   ROC_AUC\n",
            "0   rf_pipeline_model  0.600156  0.911853\n",
            "1  xgb_pipeline_model  0.680298  0.906147\n"
          ]
        }
      ],
      "source": [
        "benchmark_dict = {\n",
        "    'rf_pipeline_model': rf_pipeline_model,\n",
        "    'xgb_pipeline_model': xgb_pipeline_model\n",
        "}\n",
        "\n",
        "skfoldcv = StratifiedKFold(5)\n",
        "\n",
        "# Define scoring metrics\n",
        "scoring_metrics = {\n",
        "    'F1': 'f1',\n",
        "    'ROC_AUC': 'roc_auc',\n",
        "}\n",
        "\n",
        "# Cross-validate each model and calculate metrics\n",
        "results = []\n",
        "for model_name, model in benchmark_dict.items():\n",
        "    model_results = {'Model': model_name}\n",
        "    for metric_name, scoring_metric in scoring_metrics.items():\n",
        "        scores = cross_val_score(model, X_test, y_test, cv=skfoldcv, scoring=scoring_metric)\n",
        "        mean_score = scores.mean()\n",
        "        model_results[metric_name] = mean_score\n",
        "    results.append(model_results)\n",
        "\n",
        "# Create DataFrame from results\n",
        "results_df = pd.DataFrame(results)\n",
        "\n",
        "print(results_df)"
      ]
    },
    {
      "cell_type": "markdown",
      "metadata": {},
      "source": [
        "### Classification Report Random Forest Model"
      ]
    },
    {
      "cell_type": "code",
      "execution_count": 150,
      "metadata": {
        "colab": {
          "base_uri": "https://localhost:8080/"
        },
        "id": "DzI9vCcZ-kN-",
        "outputId": "718c07c1-7ace-49b1-e0f9-0583c9b3acf5"
      },
      "outputs": [
        {
          "name": "stdout",
          "output_type": "stream",
          "text": [
            "              precision    recall  f1-score   support\n",
            "\n",
            "           0       0.96      0.98      0.97       654\n",
            "           1       0.91      0.78      0.84       135\n",
            "\n",
            "    accuracy                           0.95       789\n",
            "   macro avg       0.93      0.88      0.90       789\n",
            "weighted avg       0.95      0.95      0.95       789\n",
            "\n",
            "-----------------------------------------------------------------\n",
            "              precision    recall  f1-score   support\n",
            "\n",
            "           0       1.00      1.00      1.00      2613\n",
            "           1       1.00      1.00      1.00       539\n",
            "\n",
            "    accuracy                           1.00      3152\n",
            "   macro avg       1.00      1.00      1.00      3152\n",
            "weighted avg       1.00      1.00      1.00      3152\n",
            "\n"
          ]
        }
      ],
      "source": [
        "rf_pipeline_model.fit(X_train,y_train)\n",
        "print(classification_report(y_test,rf_pipeline_model.predict(X_test)))\n",
        "print(\"-----------------------------------------------------------------\")\n",
        "print(classification_report(y_train,rf_pipeline_model.predict(X_train)))"
      ]
    },
    {
      "cell_type": "markdown",
      "metadata": {},
      "source": [
        "### Classification Report XGB Model"
      ]
    },
    {
      "cell_type": "code",
      "execution_count": 151,
      "metadata": {
        "colab": {
          "base_uri": "https://localhost:8080/"
        },
        "id": "M14SjVfBXaZr",
        "outputId": "f5cbe39c-9a01-49e0-85a4-ad47d5ad35d4"
      },
      "outputs": [
        {
          "name": "stdout",
          "output_type": "stream",
          "text": [
            "              precision    recall  f1-score   support\n",
            "\n",
            "           0       0.96      0.97      0.97       654\n",
            "           1       0.86      0.81      0.84       135\n",
            "\n",
            "    accuracy                           0.95       789\n",
            "   macro avg       0.91      0.89      0.90       789\n",
            "weighted avg       0.94      0.95      0.94       789\n",
            "\n",
            "-----------------------------------------------------------------\n",
            "              precision    recall  f1-score   support\n",
            "\n",
            "           0       1.00      1.00      1.00      2613\n",
            "           1       1.00      1.00      1.00       539\n",
            "\n",
            "    accuracy                           1.00      3152\n",
            "   macro avg       1.00      1.00      1.00      3152\n",
            "weighted avg       1.00      1.00      1.00      3152\n",
            "\n"
          ]
        }
      ],
      "source": [
        "xgb_pipeline_model.fit(X_train,y_train)\n",
        "\n",
        "print(classification_report(y_test,xgb_pipeline_model.predict(X_test)))\n",
        "print(\"-----------------------------------------------------------------\")\n",
        "print(classification_report(y_train,xgb_pipeline_model.predict(X_train)))"
      ]
    },
    {
      "cell_type": "markdown",
      "metadata": {},
      "source": [
        "Kalau dilihat dari skor MAE, RMSE dan ROC_AUC setelah benchmarking, bisa dilihat bahwa XGB Model masih lebih bagus secara MAE dan RMSE, tetapi RF Model lebih bagus dari segi ROC_AUC. Setelah diinvestigasi classification report untuk 2 model ini, bisa dilihat bahwa RF model menghasilkan skor recall dan f-1 score lebih bagus daripada XGB Model. Tetapi karena ingin cek untuk ada kemungkinannya overfitting, kita harus evaluasi model lagi setelah hyperparameter tuning."
      ]
    },
    {
      "cell_type": "markdown",
      "metadata": {
        "id": "L2e-S7_OgO9D"
      },
      "source": [
        "## Hyperparameter Tuning"
      ]
    },
    {
      "cell_type": "markdown",
      "metadata": {},
      "source": [
        "### Hyperparameter Tuning XGBoost"
      ]
    },
    {
      "cell_type": "markdown",
      "metadata": {
        "id": "wwX3rr2tVmDh"
      },
      "source": [
        "Kita akan mencoba melakukan tuning hyperparameter untuk model terbaik yang terpilih, yaitu XGB Classifier, dengan melakukan tuning XGB Hyperparameter menggunakan RandomizedSearchCV. Tuning hyperparameter penting dalam machine learning, karena dapat membantu mengurangi overfitting, dan juga menemukan parameter terbaik untuk mencapai performa model yang lebih baik."
      ]
    },
    {
      "cell_type": "code",
      "execution_count": 227,
      "metadata": {
        "colab": {
          "base_uri": "https://localhost:8080/",
          "height": 133
        },
        "id": "oLWtVtsTgRCK",
        "outputId": "154d4893-907f-4c33-8d39-5ab93de9c8cd"
      },
      "outputs": [
        {
          "name": "stdout",
          "output_type": "stream",
          "text": [
            "Fitting 5 folds for each of 50 candidates, totalling 250 fits\n"
          ]
        },
        {
          "data": {
            "text/html": [
              "<style>#sk-container-id-9 {color: black;background-color: white;}#sk-container-id-9 pre{padding: 0;}#sk-container-id-9 div.sk-toggleable {background-color: white;}#sk-container-id-9 label.sk-toggleable__label {cursor: pointer;display: block;width: 100%;margin-bottom: 0;padding: 0.3em;box-sizing: border-box;text-align: center;}#sk-container-id-9 label.sk-toggleable__label-arrow:before {content: \"▸\";float: left;margin-right: 0.25em;color: #696969;}#sk-container-id-9 label.sk-toggleable__label-arrow:hover:before {color: black;}#sk-container-id-9 div.sk-estimator:hover label.sk-toggleable__label-arrow:before {color: black;}#sk-container-id-9 div.sk-toggleable__content {max-height: 0;max-width: 0;overflow: hidden;text-align: left;background-color: #f0f8ff;}#sk-container-id-9 div.sk-toggleable__content pre {margin: 0.2em;color: black;border-radius: 0.25em;background-color: #f0f8ff;}#sk-container-id-9 input.sk-toggleable__control:checked~div.sk-toggleable__content {max-height: 200px;max-width: 100%;overflow: auto;}#sk-container-id-9 input.sk-toggleable__control:checked~label.sk-toggleable__label-arrow:before {content: \"▾\";}#sk-container-id-9 div.sk-estimator input.sk-toggleable__control:checked~label.sk-toggleable__label {background-color: #d4ebff;}#sk-container-id-9 div.sk-label input.sk-toggleable__control:checked~label.sk-toggleable__label {background-color: #d4ebff;}#sk-container-id-9 input.sk-hidden--visually {border: 0;clip: rect(1px 1px 1px 1px);clip: rect(1px, 1px, 1px, 1px);height: 1px;margin: -1px;overflow: hidden;padding: 0;position: absolute;width: 1px;}#sk-container-id-9 div.sk-estimator {font-family: monospace;background-color: #f0f8ff;border: 1px dotted black;border-radius: 0.25em;box-sizing: border-box;margin-bottom: 0.5em;}#sk-container-id-9 div.sk-estimator:hover {background-color: #d4ebff;}#sk-container-id-9 div.sk-parallel-item::after {content: \"\";width: 100%;border-bottom: 1px solid gray;flex-grow: 1;}#sk-container-id-9 div.sk-label:hover label.sk-toggleable__label {background-color: #d4ebff;}#sk-container-id-9 div.sk-serial::before {content: \"\";position: absolute;border-left: 1px solid gray;box-sizing: border-box;top: 0;bottom: 0;left: 50%;z-index: 0;}#sk-container-id-9 div.sk-serial {display: flex;flex-direction: column;align-items: center;background-color: white;padding-right: 0.2em;padding-left: 0.2em;position: relative;}#sk-container-id-9 div.sk-item {position: relative;z-index: 1;}#sk-container-id-9 div.sk-parallel {display: flex;align-items: stretch;justify-content: center;background-color: white;position: relative;}#sk-container-id-9 div.sk-item::before, #sk-container-id-9 div.sk-parallel-item::before {content: \"\";position: absolute;border-left: 1px solid gray;box-sizing: border-box;top: 0;bottom: 0;left: 50%;z-index: -1;}#sk-container-id-9 div.sk-parallel-item {display: flex;flex-direction: column;z-index: 1;position: relative;background-color: white;}#sk-container-id-9 div.sk-parallel-item:first-child::after {align-self: flex-end;width: 50%;}#sk-container-id-9 div.sk-parallel-item:last-child::after {align-self: flex-start;width: 50%;}#sk-container-id-9 div.sk-parallel-item:only-child::after {width: 0;}#sk-container-id-9 div.sk-dashed-wrapped {border: 1px dashed gray;margin: 0 0.4em 0.5em 0.4em;box-sizing: border-box;padding-bottom: 0.4em;background-color: white;}#sk-container-id-9 div.sk-label label {font-family: monospace;font-weight: bold;display: inline-block;line-height: 1.2em;}#sk-container-id-9 div.sk-label-container {text-align: center;}#sk-container-id-9 div.sk-container {/* jupyter's `normalize.less` sets `[hidden] { display: none; }` but bootstrap.min.css set `[hidden] { display: none !important; }` so we also need the `!important` here to be able to override the default hidden behavior on the sphinx rendered scikit-learn.org. See: https://github.com/scikit-learn/scikit-learn/issues/21755 */display: inline-block !important;position: relative;}#sk-container-id-9 div.sk-text-repr-fallback {display: none;}</style><div id=\"sk-container-id-9\" class=\"sk-top-container\"><div class=\"sk-text-repr-fallback\"><pre>RandomizedSearchCV(cv=5,\n",
              "                   estimator=Pipeline(steps=[(&#x27;imputer&#x27;,\n",
              "                                              IterativeImputer(random_state=42)),\n",
              "                                             (&#x27;normalizer&#x27;, RobustScaler()),\n",
              "                                             (&#x27;xgb_modelling&#x27;,\n",
              "                                              XGBClassifier(base_score=None,\n",
              "                                                            booster=None,\n",
              "                                                            callbacks=None,\n",
              "                                                            colsample_bylevel=None,\n",
              "                                                            colsample_bynode=None,\n",
              "                                                            colsample_bytree=None,\n",
              "                                                            device=None,\n",
              "                                                            early_stopping_rounds=None,\n",
              "                                                            enable_categorical=False,\n",
              "                                                            eval_metric=None,\n",
              "                                                            f...\n",
              "                   param_distributions={&#x27;xgb_modelling__colsample_bytree&#x27;: [0.1,\n",
              "                                                                            0.5,\n",
              "                                                                            1.0],\n",
              "                                        &#x27;xgb_modelling__gamma&#x27;: [0, 0.1, 0.2,\n",
              "                                                                 0.3],\n",
              "                                        &#x27;xgb_modelling__learning_rate&#x27;: [0.01,\n",
              "                                                                         0.1,\n",
              "                                                                         0.2,\n",
              "                                                                         0.3,\n",
              "                                                                         0.4],\n",
              "                                        &#x27;xgb_modelling__max_depth&#x27;: [1, 3, 6,\n",
              "                                                                     10],\n",
              "                                        &#x27;xgb_modelling__min_child_weight&#x27;: [1,\n",
              "                                                                            3,\n",
              "                                                                            5],\n",
              "                                        &#x27;xgb_modelling__n_estimators&#x27;: [100,\n",
              "                                                                        250,\n",
              "                                                                        500,\n",
              "                                                                        750],\n",
              "                                        &#x27;xgb_modelling__subsample&#x27;: [0.1, 0.5,\n",
              "                                                                     1.0]},\n",
              "                   random_state=42, scoring=&#x27;accuracy&#x27;, verbose=1)</pre><b>In a Jupyter environment, please rerun this cell to show the HTML representation or trust the notebook. <br />On GitHub, the HTML representation is unable to render, please try loading this page with nbviewer.org.</b></div><div class=\"sk-container\" hidden><div class=\"sk-item sk-dashed-wrapped\"><div class=\"sk-label-container\"><div class=\"sk-label sk-toggleable\"><input class=\"sk-toggleable__control sk-hidden--visually\" id=\"sk-estimator-id-35\" type=\"checkbox\" ><label for=\"sk-estimator-id-35\" class=\"sk-toggleable__label sk-toggleable__label-arrow\">RandomizedSearchCV</label><div class=\"sk-toggleable__content\"><pre>RandomizedSearchCV(cv=5,\n",
              "                   estimator=Pipeline(steps=[(&#x27;imputer&#x27;,\n",
              "                                              IterativeImputer(random_state=42)),\n",
              "                                             (&#x27;normalizer&#x27;, RobustScaler()),\n",
              "                                             (&#x27;xgb_modelling&#x27;,\n",
              "                                              XGBClassifier(base_score=None,\n",
              "                                                            booster=None,\n",
              "                                                            callbacks=None,\n",
              "                                                            colsample_bylevel=None,\n",
              "                                                            colsample_bynode=None,\n",
              "                                                            colsample_bytree=None,\n",
              "                                                            device=None,\n",
              "                                                            early_stopping_rounds=None,\n",
              "                                                            enable_categorical=False,\n",
              "                                                            eval_metric=None,\n",
              "                                                            f...\n",
              "                   param_distributions={&#x27;xgb_modelling__colsample_bytree&#x27;: [0.1,\n",
              "                                                                            0.5,\n",
              "                                                                            1.0],\n",
              "                                        &#x27;xgb_modelling__gamma&#x27;: [0, 0.1, 0.2,\n",
              "                                                                 0.3],\n",
              "                                        &#x27;xgb_modelling__learning_rate&#x27;: [0.01,\n",
              "                                                                         0.1,\n",
              "                                                                         0.2,\n",
              "                                                                         0.3,\n",
              "                                                                         0.4],\n",
              "                                        &#x27;xgb_modelling__max_depth&#x27;: [1, 3, 6,\n",
              "                                                                     10],\n",
              "                                        &#x27;xgb_modelling__min_child_weight&#x27;: [1,\n",
              "                                                                            3,\n",
              "                                                                            5],\n",
              "                                        &#x27;xgb_modelling__n_estimators&#x27;: [100,\n",
              "                                                                        250,\n",
              "                                                                        500,\n",
              "                                                                        750],\n",
              "                                        &#x27;xgb_modelling__subsample&#x27;: [0.1, 0.5,\n",
              "                                                                     1.0]},\n",
              "                   random_state=42, scoring=&#x27;accuracy&#x27;, verbose=1)</pre></div></div></div><div class=\"sk-parallel\"><div class=\"sk-parallel-item\"><div class=\"sk-item\"><div class=\"sk-label-container\"><div class=\"sk-label sk-toggleable\"><input class=\"sk-toggleable__control sk-hidden--visually\" id=\"sk-estimator-id-36\" type=\"checkbox\" ><label for=\"sk-estimator-id-36\" class=\"sk-toggleable__label sk-toggleable__label-arrow\">estimator: Pipeline</label><div class=\"sk-toggleable__content\"><pre>Pipeline(steps=[(&#x27;imputer&#x27;, IterativeImputer(random_state=42)),\n",
              "                (&#x27;normalizer&#x27;, RobustScaler()),\n",
              "                (&#x27;xgb_modelling&#x27;,\n",
              "                 XGBClassifier(base_score=None, booster=None, callbacks=None,\n",
              "                               colsample_bylevel=None, colsample_bynode=None,\n",
              "                               colsample_bytree=None, device=None,\n",
              "                               early_stopping_rounds=None,\n",
              "                               enable_categorical=False, eval_metric=None,\n",
              "                               feature_types=None, gamma=None, grow_policy=None,\n",
              "                               importance_type=None,\n",
              "                               interaction_constraints=None, learning_rate=None,\n",
              "                               max_bin=None, max_cat_threshold=None,\n",
              "                               max_cat_to_onehot=None, max_delta_step=None,\n",
              "                               max_depth=None, max_leaves=None,\n",
              "                               min_child_weight=None, missing=nan,\n",
              "                               monotone_constraints=None, multi_strategy=None,\n",
              "                               n_estimators=None, n_jobs=None,\n",
              "                               num_parallel_tree=None, random_state=None, ...))])</pre></div></div></div><div class=\"sk-serial\"><div class=\"sk-item\"><div class=\"sk-serial\"><div class=\"sk-item\"><div class=\"sk-estimator sk-toggleable\"><input class=\"sk-toggleable__control sk-hidden--visually\" id=\"sk-estimator-id-37\" type=\"checkbox\" ><label for=\"sk-estimator-id-37\" class=\"sk-toggleable__label sk-toggleable__label-arrow\">IterativeImputer</label><div class=\"sk-toggleable__content\"><pre>IterativeImputer(random_state=42)</pre></div></div></div><div class=\"sk-item\"><div class=\"sk-estimator sk-toggleable\"><input class=\"sk-toggleable__control sk-hidden--visually\" id=\"sk-estimator-id-38\" type=\"checkbox\" ><label for=\"sk-estimator-id-38\" class=\"sk-toggleable__label sk-toggleable__label-arrow\">RobustScaler</label><div class=\"sk-toggleable__content\"><pre>RobustScaler()</pre></div></div></div><div class=\"sk-item\"><div class=\"sk-estimator sk-toggleable\"><input class=\"sk-toggleable__control sk-hidden--visually\" id=\"sk-estimator-id-39\" type=\"checkbox\" ><label for=\"sk-estimator-id-39\" class=\"sk-toggleable__label sk-toggleable__label-arrow\">XGBClassifier</label><div class=\"sk-toggleable__content\"><pre>XGBClassifier(base_score=None, booster=None, callbacks=None,\n",
              "              colsample_bylevel=None, colsample_bynode=None,\n",
              "              colsample_bytree=None, device=None, early_stopping_rounds=None,\n",
              "              enable_categorical=False, eval_metric=None, feature_types=None,\n",
              "              gamma=None, grow_policy=None, importance_type=None,\n",
              "              interaction_constraints=None, learning_rate=None, max_bin=None,\n",
              "              max_cat_threshold=None, max_cat_to_onehot=None,\n",
              "              max_delta_step=None, max_depth=None, max_leaves=None,\n",
              "              min_child_weight=None, missing=nan, monotone_constraints=None,\n",
              "              multi_strategy=None, n_estimators=None, n_jobs=None,\n",
              "              num_parallel_tree=None, random_state=None, ...)</pre></div></div></div></div></div></div></div></div></div></div></div></div>"
            ],
            "text/plain": [
              "RandomizedSearchCV(cv=5,\n",
              "                   estimator=Pipeline(steps=[('imputer',\n",
              "                                              IterativeImputer(random_state=42)),\n",
              "                                             ('normalizer', RobustScaler()),\n",
              "                                             ('xgb_modelling',\n",
              "                                              XGBClassifier(base_score=None,\n",
              "                                                            booster=None,\n",
              "                                                            callbacks=None,\n",
              "                                                            colsample_bylevel=None,\n",
              "                                                            colsample_bynode=None,\n",
              "                                                            colsample_bytree=None,\n",
              "                                                            device=None,\n",
              "                                                            early_stopping_rounds=None,\n",
              "                                                            enable_categorical=False,\n",
              "                                                            eval_metric=None,\n",
              "                                                            f...\n",
              "                   param_distributions={'xgb_modelling__colsample_bytree': [0.1,\n",
              "                                                                            0.5,\n",
              "                                                                            1.0],\n",
              "                                        'xgb_modelling__gamma': [0, 0.1, 0.2,\n",
              "                                                                 0.3],\n",
              "                                        'xgb_modelling__learning_rate': [0.01,\n",
              "                                                                         0.1,\n",
              "                                                                         0.2,\n",
              "                                                                         0.3,\n",
              "                                                                         0.4],\n",
              "                                        'xgb_modelling__max_depth': [1, 3, 6,\n",
              "                                                                     10],\n",
              "                                        'xgb_modelling__min_child_weight': [1,\n",
              "                                                                            3,\n",
              "                                                                            5],\n",
              "                                        'xgb_modelling__n_estimators': [100,\n",
              "                                                                        250,\n",
              "                                                                        500,\n",
              "                                                                        750],\n",
              "                                        'xgb_modelling__subsample': [0.1, 0.5,\n",
              "                                                                     1.0]},\n",
              "                   random_state=42, scoring='accuracy', verbose=1)"
            ]
          },
          "execution_count": 227,
          "metadata": {},
          "output_type": "execute_result"
        }
      ],
      "source": [
        "xgb = Pipeline([\n",
        "    ('imputer', IterativeImputer(random_state=42)),\n",
        "    ('normalizer', RobustScaler()),\n",
        "    ('xgb_modelling', XGBClassifier())\n",
        "])\n",
        "\n",
        "# Define the hyperparameter grid\n",
        "param_grid_xgb = {\n",
        "              'xgb_modelling__max_depth': [1,3,6,10],\n",
        "              'xgb_modelling__learning_rate': [0.01, 0.1, 0.2, 0.3, 0.4],\n",
        "              'xgb_modelling__subsample': [0.1, 0.5, 1.0],\n",
        "              'xgb_modelling__colsample_bytree': [0.1, 0.5, 1.0],\n",
        "              'xgb_modelling__n_estimators': [100, 250, 500, 750],\n",
        "              'xgb_modelling__gamma': [0, 0.1, 0.2, 0.3],\n",
        "              'xgb_modelling__min_child_weight': [1, 3, 5]\n",
        "}\n",
        "\n",
        "# Initialize RandomizedSearchCV\n",
        "random_search_xgb = RandomizedSearchCV(estimator=xgb, param_distributions=param_grid_xgb,\n",
        "                                   n_iter=50, scoring='accuracy', cv=5, verbose=1, random_state=42)\n",
        "\n",
        "# Perform the random search\n",
        "random_search_xgb.fit(X_train, y_train)\n"
      ]
    },
    {
      "cell_type": "code",
      "execution_count": 228,
      "metadata": {
        "colab": {
          "base_uri": "https://localhost:8080/"
        },
        "id": "jYmTwK6eGQyd",
        "outputId": "1ddbd001-7370-4071-f4e7-c1d642f91f3d"
      },
      "outputs": [
        {
          "name": "stdout",
          "output_type": "stream",
          "text": [
            "Best hyperparameters: {'xgb_modelling__subsample': 1.0, 'xgb_modelling__n_estimators': 500, 'xgb_modelling__min_child_weight': 3, 'xgb_modelling__max_depth': 10, 'xgb_modelling__learning_rate': 0.1, 'xgb_modelling__gamma': 0, 'xgb_modelling__colsample_bytree': 0.5}\n",
            "Best score: 0.9349573617085503\n",
            "Test accuracy of the best model: 0.9493029150823827\n"
          ]
        }
      ],
      "source": [
        "# Get the best hyperparameters\n",
        "best_params = random_search_xgb.best_params_\n",
        "print(\"Best hyperparameters:\", best_params)\n",
        "\n",
        "# Evaluate the best model\n",
        "best_model = random_search_xgb.best_estimator_\n",
        "best_score = random_search_xgb.best_score_\n",
        "print(\"Best score:\", best_score)\n",
        "accuracy = best_model.score(X_test, y_test)\n",
        "print(\"Test accuracy of the best model:\", accuracy)"
      ]
    },
    {
      "cell_type": "markdown",
      "metadata": {},
      "source": [
        "### Hyperparameter Tuning RF"
      ]
    },
    {
      "cell_type": "code",
      "execution_count": 285,
      "metadata": {
        "colab": {
          "base_uri": "https://localhost:8080/",
          "height": 201
        },
        "id": "AXDeUT3J-2k2",
        "outputId": "9603b168-0f0d-473d-cab6-ae1dc0f6b560"
      },
      "outputs": [
        {
          "name": "stdout",
          "output_type": "stream",
          "text": [
            "Fitting 5 folds for each of 50 candidates, totalling 250 fits\n"
          ]
        },
        {
          "data": {
            "text/html": [
              "<style>#sk-container-id-10 {color: black;background-color: white;}#sk-container-id-10 pre{padding: 0;}#sk-container-id-10 div.sk-toggleable {background-color: white;}#sk-container-id-10 label.sk-toggleable__label {cursor: pointer;display: block;width: 100%;margin-bottom: 0;padding: 0.3em;box-sizing: border-box;text-align: center;}#sk-container-id-10 label.sk-toggleable__label-arrow:before {content: \"▸\";float: left;margin-right: 0.25em;color: #696969;}#sk-container-id-10 label.sk-toggleable__label-arrow:hover:before {color: black;}#sk-container-id-10 div.sk-estimator:hover label.sk-toggleable__label-arrow:before {color: black;}#sk-container-id-10 div.sk-toggleable__content {max-height: 0;max-width: 0;overflow: hidden;text-align: left;background-color: #f0f8ff;}#sk-container-id-10 div.sk-toggleable__content pre {margin: 0.2em;color: black;border-radius: 0.25em;background-color: #f0f8ff;}#sk-container-id-10 input.sk-toggleable__control:checked~div.sk-toggleable__content {max-height: 200px;max-width: 100%;overflow: auto;}#sk-container-id-10 input.sk-toggleable__control:checked~label.sk-toggleable__label-arrow:before {content: \"▾\";}#sk-container-id-10 div.sk-estimator input.sk-toggleable__control:checked~label.sk-toggleable__label {background-color: #d4ebff;}#sk-container-id-10 div.sk-label input.sk-toggleable__control:checked~label.sk-toggleable__label {background-color: #d4ebff;}#sk-container-id-10 input.sk-hidden--visually {border: 0;clip: rect(1px 1px 1px 1px);clip: rect(1px, 1px, 1px, 1px);height: 1px;margin: -1px;overflow: hidden;padding: 0;position: absolute;width: 1px;}#sk-container-id-10 div.sk-estimator {font-family: monospace;background-color: #f0f8ff;border: 1px dotted black;border-radius: 0.25em;box-sizing: border-box;margin-bottom: 0.5em;}#sk-container-id-10 div.sk-estimator:hover {background-color: #d4ebff;}#sk-container-id-10 div.sk-parallel-item::after {content: \"\";width: 100%;border-bottom: 1px solid gray;flex-grow: 1;}#sk-container-id-10 div.sk-label:hover label.sk-toggleable__label {background-color: #d4ebff;}#sk-container-id-10 div.sk-serial::before {content: \"\";position: absolute;border-left: 1px solid gray;box-sizing: border-box;top: 0;bottom: 0;left: 50%;z-index: 0;}#sk-container-id-10 div.sk-serial {display: flex;flex-direction: column;align-items: center;background-color: white;padding-right: 0.2em;padding-left: 0.2em;position: relative;}#sk-container-id-10 div.sk-item {position: relative;z-index: 1;}#sk-container-id-10 div.sk-parallel {display: flex;align-items: stretch;justify-content: center;background-color: white;position: relative;}#sk-container-id-10 div.sk-item::before, #sk-container-id-10 div.sk-parallel-item::before {content: \"\";position: absolute;border-left: 1px solid gray;box-sizing: border-box;top: 0;bottom: 0;left: 50%;z-index: -1;}#sk-container-id-10 div.sk-parallel-item {display: flex;flex-direction: column;z-index: 1;position: relative;background-color: white;}#sk-container-id-10 div.sk-parallel-item:first-child::after {align-self: flex-end;width: 50%;}#sk-container-id-10 div.sk-parallel-item:last-child::after {align-self: flex-start;width: 50%;}#sk-container-id-10 div.sk-parallel-item:only-child::after {width: 0;}#sk-container-id-10 div.sk-dashed-wrapped {border: 1px dashed gray;margin: 0 0.4em 0.5em 0.4em;box-sizing: border-box;padding-bottom: 0.4em;background-color: white;}#sk-container-id-10 div.sk-label label {font-family: monospace;font-weight: bold;display: inline-block;line-height: 1.2em;}#sk-container-id-10 div.sk-label-container {text-align: center;}#sk-container-id-10 div.sk-container {/* jupyter's `normalize.less` sets `[hidden] { display: none; }` but bootstrap.min.css set `[hidden] { display: none !important; }` so we also need the `!important` here to be able to override the default hidden behavior on the sphinx rendered scikit-learn.org. See: https://github.com/scikit-learn/scikit-learn/issues/21755 */display: inline-block !important;position: relative;}#sk-container-id-10 div.sk-text-repr-fallback {display: none;}</style><div id=\"sk-container-id-10\" class=\"sk-top-container\"><div class=\"sk-text-repr-fallback\"><pre>RandomizedSearchCV(cv=5, error_score=&#x27;raise&#x27;,\n",
              "                   estimator=Pipeline(steps=[(&#x27;imputer&#x27;,\n",
              "                                              IterativeImputer(random_state=42)),\n",
              "                                             (&#x27;normalizer&#x27;, RobustScaler()),\n",
              "                                             (&#x27;rf_modelling&#x27;,\n",
              "                                              RandomForestClassifier())]),\n",
              "                   n_iter=50,\n",
              "                   param_distributions={&#x27;rf_modelling__bootstrap&#x27;: [True,\n",
              "                                                                    False],\n",
              "                                        &#x27;rf_modelling__max_depth&#x27;: [None, 5, 10,\n",
              "                                                                    20],\n",
              "                                        &#x27;rf_modelling__min_samples_leaf&#x27;: [1, 2,\n",
              "                                                                           4],\n",
              "                                        &#x27;rf_modelling__min_samples_split&#x27;: [2,\n",
              "                                                                            5,\n",
              "                                                                            10],\n",
              "                                        &#x27;rf_modelling__n_estimators&#x27;: [100, 200,\n",
              "                                                                       300]},\n",
              "                   random_state=42, scoring=&#x27;accuracy&#x27;, verbose=1)</pre><b>In a Jupyter environment, please rerun this cell to show the HTML representation or trust the notebook. <br />On GitHub, the HTML representation is unable to render, please try loading this page with nbviewer.org.</b></div><div class=\"sk-container\" hidden><div class=\"sk-item sk-dashed-wrapped\"><div class=\"sk-label-container\"><div class=\"sk-label sk-toggleable\"><input class=\"sk-toggleable__control sk-hidden--visually\" id=\"sk-estimator-id-40\" type=\"checkbox\" ><label for=\"sk-estimator-id-40\" class=\"sk-toggleable__label sk-toggleable__label-arrow\">RandomizedSearchCV</label><div class=\"sk-toggleable__content\"><pre>RandomizedSearchCV(cv=5, error_score=&#x27;raise&#x27;,\n",
              "                   estimator=Pipeline(steps=[(&#x27;imputer&#x27;,\n",
              "                                              IterativeImputer(random_state=42)),\n",
              "                                             (&#x27;normalizer&#x27;, RobustScaler()),\n",
              "                                             (&#x27;rf_modelling&#x27;,\n",
              "                                              RandomForestClassifier())]),\n",
              "                   n_iter=50,\n",
              "                   param_distributions={&#x27;rf_modelling__bootstrap&#x27;: [True,\n",
              "                                                                    False],\n",
              "                                        &#x27;rf_modelling__max_depth&#x27;: [None, 5, 10,\n",
              "                                                                    20],\n",
              "                                        &#x27;rf_modelling__min_samples_leaf&#x27;: [1, 2,\n",
              "                                                                           4],\n",
              "                                        &#x27;rf_modelling__min_samples_split&#x27;: [2,\n",
              "                                                                            5,\n",
              "                                                                            10],\n",
              "                                        &#x27;rf_modelling__n_estimators&#x27;: [100, 200,\n",
              "                                                                       300]},\n",
              "                   random_state=42, scoring=&#x27;accuracy&#x27;, verbose=1)</pre></div></div></div><div class=\"sk-parallel\"><div class=\"sk-parallel-item\"><div class=\"sk-item\"><div class=\"sk-label-container\"><div class=\"sk-label sk-toggleable\"><input class=\"sk-toggleable__control sk-hidden--visually\" id=\"sk-estimator-id-41\" type=\"checkbox\" ><label for=\"sk-estimator-id-41\" class=\"sk-toggleable__label sk-toggleable__label-arrow\">estimator: Pipeline</label><div class=\"sk-toggleable__content\"><pre>Pipeline(steps=[(&#x27;imputer&#x27;, IterativeImputer(random_state=42)),\n",
              "                (&#x27;normalizer&#x27;, RobustScaler()),\n",
              "                (&#x27;rf_modelling&#x27;, RandomForestClassifier())])</pre></div></div></div><div class=\"sk-serial\"><div class=\"sk-item\"><div class=\"sk-serial\"><div class=\"sk-item\"><div class=\"sk-estimator sk-toggleable\"><input class=\"sk-toggleable__control sk-hidden--visually\" id=\"sk-estimator-id-42\" type=\"checkbox\" ><label for=\"sk-estimator-id-42\" class=\"sk-toggleable__label sk-toggleable__label-arrow\">IterativeImputer</label><div class=\"sk-toggleable__content\"><pre>IterativeImputer(random_state=42)</pre></div></div></div><div class=\"sk-item\"><div class=\"sk-estimator sk-toggleable\"><input class=\"sk-toggleable__control sk-hidden--visually\" id=\"sk-estimator-id-43\" type=\"checkbox\" ><label for=\"sk-estimator-id-43\" class=\"sk-toggleable__label sk-toggleable__label-arrow\">RobustScaler</label><div class=\"sk-toggleable__content\"><pre>RobustScaler()</pre></div></div></div><div class=\"sk-item\"><div class=\"sk-estimator sk-toggleable\"><input class=\"sk-toggleable__control sk-hidden--visually\" id=\"sk-estimator-id-44\" type=\"checkbox\" ><label for=\"sk-estimator-id-44\" class=\"sk-toggleable__label sk-toggleable__label-arrow\">RandomForestClassifier</label><div class=\"sk-toggleable__content\"><pre>RandomForestClassifier()</pre></div></div></div></div></div></div></div></div></div></div></div></div>"
            ],
            "text/plain": [
              "RandomizedSearchCV(cv=5, error_score='raise',\n",
              "                   estimator=Pipeline(steps=[('imputer',\n",
              "                                              IterativeImputer(random_state=42)),\n",
              "                                             ('normalizer', RobustScaler()),\n",
              "                                             ('rf_modelling',\n",
              "                                              RandomForestClassifier())]),\n",
              "                   n_iter=50,\n",
              "                   param_distributions={'rf_modelling__bootstrap': [True,\n",
              "                                                                    False],\n",
              "                                        'rf_modelling__max_depth': [None, 5, 10,\n",
              "                                                                    20],\n",
              "                                        'rf_modelling__min_samples_leaf': [1, 2,\n",
              "                                                                           4],\n",
              "                                        'rf_modelling__min_samples_split': [2,\n",
              "                                                                            5,\n",
              "                                                                            10],\n",
              "                                        'rf_modelling__n_estimators': [100, 200,\n",
              "                                                                       300]},\n",
              "                   random_state=42, scoring='accuracy', verbose=1)"
            ]
          },
          "execution_count": 285,
          "metadata": {},
          "output_type": "execute_result"
        }
      ],
      "source": [
        "rf = Pipeline([\n",
        "    ('imputer', IterativeImputer(random_state=42)),\n",
        "    ('normalizer', RobustScaler()),\n",
        "    ('rf_modelling', RandomForestClassifier())\n",
        "])\n",
        "\n",
        "# Define the hyperparameter grid for Random Forest Classifier\n",
        "param_grid_rf = {\n",
        "    'rf_modelling__n_estimators': [100, 200, 300],\n",
        "    'rf_modelling__max_depth': [None, 5, 10, 20],\n",
        "    'rf_modelling__min_samples_split': [2, 5, 10],\n",
        "    'rf_modelling__min_samples_leaf': [1, 2, 4],\n",
        "    'rf_modelling__bootstrap': [True, False]\n",
        "}\n",
        "\n",
        "# Initialize RandomizedSearchCV\n",
        "random_search_rf = RandomizedSearchCV(estimator=rf, param_distributions=param_grid_rf,\n",
        "                                   n_iter=50, scoring='accuracy', cv=5, verbose=1, random_state=42,error_score='raise')\n",
        "\n",
        "# Perform the random search\n",
        "random_search_rf.fit(X_train, y_train)"
      ]
    },
    {
      "cell_type": "code",
      "execution_count": 286,
      "metadata": {
        "colab": {
          "base_uri": "https://localhost:8080/"
        },
        "id": "hlYkDyqlGOHR",
        "outputId": "a302b42d-1e97-4ef3-a7c2-2f17db2c7b38"
      },
      "outputs": [
        {
          "name": "stdout",
          "output_type": "stream",
          "text": [
            "Best hyperparameters: {'rf_modelling__n_estimators': 200, 'rf_modelling__min_samples_split': 2, 'rf_modelling__min_samples_leaf': 1, 'rf_modelling__max_depth': 20, 'rf_modelling__bootstrap': False}\n",
            "Pipeline(steps=[('imputer', IterativeImputer(random_state=42)),\n",
            "                ('normalizer', RobustScaler()),\n",
            "                ('rf_modelling',\n",
            "                 RandomForestClassifier(bootstrap=False, max_depth=20,\n",
            "                                        n_estimators=200))])\n",
            "Best score: 0.9346414107111413\n",
            "Test accuracy of the best model: 0.9645120405576679\n"
          ]
        }
      ],
      "source": [
        "# Get the best hyperparameters\n",
        "best_params_rf= random_search_rf.best_params_\n",
        "print(\"Best hyperparameters:\", best_params_rf)\n",
        "\n",
        "# Evaluate the best model\n",
        "best_model_rf = random_search_rf.best_estimator_\n",
        "print(best_model_rf)\n",
        "best_score_rf = random_search_rf.best_score_\n",
        "print(\"Best score:\", best_score_rf)\n",
        "accuracy = best_model_rf.score(X_test, y_test)\n",
        "print(\"Test accuracy of the best model:\", accuracy)"
      ]
    },
    {
      "cell_type": "code",
      "execution_count": 80,
      "metadata": {},
      "outputs": [],
      "source": [
        "from sklearn.metrics import f1_score, roc_auc_score"
      ]
    },
    {
      "cell_type": "markdown",
      "metadata": {
        "id": "1aFzuTGQsWkg"
      },
      "source": [
        "### Scores Before and After Hyperparameter Tuning - XGB Model"
      ]
    },
    {
      "cell_type": "markdown",
      "metadata": {},
      "source": [
        "#### Before Hyperparameter Tuning"
      ]
    },
    {
      "cell_type": "code",
      "execution_count": 287,
      "metadata": {
        "colab": {
          "base_uri": "https://localhost:8080/"
        },
        "id": "KLrEgQXysfvD",
        "outputId": "58413db0-87a2-4264-ff1e-af81ad70123d"
      },
      "outputs": [
        {
          "name": "stdout",
          "output_type": "stream",
          "text": [
            "F1-Score NonHyper: 0.8365019011406842\n",
            "ROC-AUC After Tuning: 0.8936459395174992\n"
          ]
        }
      ],
      "source": [
        "xgb_pipeline_model.fit(X_train,y_train)\n",
        "y_pred = xgb_pipeline_model.predict(X_test)\n",
        "f1_nohyper_xgb = f1_score(y_test,y_pred)\n",
        "print(\"F1-Score NonHyper:\",f1_nohyper_xgb)\n",
        "\n",
        "roc_auc_nohyper_xgb = roc_auc_score(y_test,y_pred)\n",
        "print(\"ROC-AUC After Tuning:\", roc_auc_nohyper_xgb)"
      ]
    },
    {
      "cell_type": "code",
      "execution_count": 288,
      "metadata": {
        "colab": {
          "base_uri": "https://localhost:8080/"
        },
        "id": "yp1InXOWani_",
        "outputId": "c7061b69-3c0e-4cd7-8dcc-a519397f7eab"
      },
      "outputs": [
        {
          "name": "stdout",
          "output_type": "stream",
          "text": [
            "              precision    recall  f1-score   support\n",
            "\n",
            "           0       0.96      0.97      0.97       654\n",
            "           1       0.86      0.81      0.84       135\n",
            "\n",
            "    accuracy                           0.95       789\n",
            "   macro avg       0.91      0.89      0.90       789\n",
            "weighted avg       0.94      0.95      0.94       789\n",
            "\n"
          ]
        }
      ],
      "source": [
        "print(classification_report(y_test,xgb_pipeline_model.predict(X_test)))"
      ]
    },
    {
      "cell_type": "markdown",
      "metadata": {},
      "source": [
        "#### After Hyperparameter Tuning"
      ]
    },
    {
      "cell_type": "code",
      "execution_count": 289,
      "metadata": {
        "colab": {
          "base_uri": "https://localhost:8080/"
        },
        "id": "sn1UB1KVnvEq",
        "outputId": "b86c0e3c-7d71-4eed-9155-6694b8ed978d"
      },
      "outputs": [
        {
          "name": "stdout",
          "output_type": "stream",
          "text": [
            "F1-Score Hyper: 0.8449612403100776\n",
            "ROC-AUC After Tuning: 0.8930003397893306\n"
          ]
        }
      ],
      "source": [
        "from sklearn.metrics import f1_score\n",
        "y_pred = best_model.predict(X_test)\n",
        "\n",
        "f1_hyper_xgb = f1_score(y_test,y_pred)\n",
        "print(\"F1-Score Hyper:\",f1_hyper_xgb)\n",
        "\n",
        "roc_auc_hyper_xgb = roc_auc_score(y_test,y_pred)\n",
        "print(\"ROC-AUC After Tuning:\", roc_auc_hyper_xgb)"
      ]
    },
    {
      "cell_type": "code",
      "execution_count": 290,
      "metadata": {
        "colab": {
          "base_uri": "https://localhost:8080/"
        },
        "id": "6KKHByUTacUg",
        "outputId": "c4c0a91d-d180-4a2e-a8a1-f03d60f98d97"
      },
      "outputs": [
        {
          "name": "stdout",
          "output_type": "stream",
          "text": [
            "              precision    recall  f1-score   support\n",
            "\n",
            "           0       0.96      0.98      0.97       654\n",
            "           1       0.89      0.81      0.84       135\n",
            "\n",
            "    accuracy                           0.95       789\n",
            "   macro avg       0.92      0.89      0.91       789\n",
            "weighted avg       0.95      0.95      0.95       789\n",
            "\n"
          ]
        }
      ],
      "source": [
        "print(classification_report(y_test,best_model.predict(X_test)))"
      ]
    },
    {
      "cell_type": "code",
      "execution_count": 291,
      "metadata": {},
      "outputs": [
        {
          "data": {
            "text/html": [
              "<div>\n",
              "<style scoped>\n",
              "    .dataframe tbody tr th:only-of-type {\n",
              "        vertical-align: middle;\n",
              "    }\n",
              "\n",
              "    .dataframe tbody tr th {\n",
              "        vertical-align: top;\n",
              "    }\n",
              "\n",
              "    .dataframe thead th {\n",
              "        text-align: right;\n",
              "    }\n",
              "</style>\n",
              "<table border=\"1\" class=\"dataframe\">\n",
              "  <thead>\n",
              "    <tr style=\"text-align: right;\">\n",
              "      <th></th>\n",
              "      <th>Tuning</th>\n",
              "      <th>F1</th>\n",
              "      <th>ROC-AUC</th>\n",
              "    </tr>\n",
              "  </thead>\n",
              "  <tbody>\n",
              "    <tr>\n",
              "      <th>0</th>\n",
              "      <td>Before Tuning</td>\n",
              "      <td>0.836502</td>\n",
              "      <td>0.893646</td>\n",
              "    </tr>\n",
              "    <tr>\n",
              "      <th>1</th>\n",
              "      <td>After Tuning</td>\n",
              "      <td>0.844961</td>\n",
              "      <td>0.893000</td>\n",
              "    </tr>\n",
              "  </tbody>\n",
              "</table>\n",
              "</div>"
            ],
            "text/plain": [
              "          Tuning        F1   ROC-AUC\n",
              "0  Before Tuning  0.836502  0.893646\n",
              "1   After Tuning  0.844961  0.893000"
            ]
          },
          "execution_count": 291,
          "metadata": {},
          "output_type": "execute_result"
        }
      ],
      "source": [
        "xgb_results = pd.DataFrame(\n",
        "    [\n",
        "        ['Before Tuning', f1_nohyper_xgb,roc_auc_nohyper_xgb],\n",
        "        ['After Tuning', f1_hyper_xgb,roc_auc_hyper_xgb]\n",
        "    ],\n",
        "    columns=['Tuning', 'F1','ROC-AUC']\n",
        ")\n",
        "f1_improve = ((f1_hyper_xgb - f1_nohyper_xgb) / f1_nohyper_xgb) * 100\n",
        "xgb_results"
      ]
    },
    {
      "cell_type": "markdown",
      "metadata": {},
      "source": [
        "### Scores Before and After Hyperparameter Tuning - RF"
      ]
    },
    {
      "cell_type": "markdown",
      "metadata": {},
      "source": [
        "#### Before Hyperparameter Tuning"
      ]
    },
    {
      "cell_type": "code",
      "execution_count": 292,
      "metadata": {
        "colab": {
          "base_uri": "https://localhost:8080/"
        },
        "id": "q6MBLk46GmKc",
        "outputId": "9a88f9ea-aff0-4183-86ed-4313667360ef"
      },
      "outputs": [
        {
          "name": "stdout",
          "output_type": "stream",
          "text": [
            "F1-Score NonHyper: 0.8446215139442231\n",
            "ROC-AUC Before Tuning: 0.8849473326537547\n"
          ]
        }
      ],
      "source": [
        "rf_pipeline_model.fit(X_train,y_train)\n",
        "y_pred = rf_pipeline_model.predict(X_test)\n",
        "\n",
        "f1_nohyper_rf = f1_score(y_test,y_pred)\n",
        "print(\"F1-Score NonHyper:\",f1_nohyper_rf)\n",
        "\n",
        "\n",
        "roc_auc_nohyper_rf = roc_auc_score(y_test,y_pred)\n",
        "print(\"ROC-AUC Before Tuning:\", roc_auc_nohyper_rf)\n"
      ]
    },
    {
      "cell_type": "code",
      "execution_count": 293,
      "metadata": {
        "colab": {
          "base_uri": "https://localhost:8080/"
        },
        "id": "WZ-CBHnnHSx9",
        "outputId": "f89aedd2-e70c-4834-8061-ff7f09dacc74"
      },
      "outputs": [
        {
          "name": "stdout",
          "output_type": "stream",
          "text": [
            "              precision    recall  f1-score   support\n",
            "\n",
            "           0       0.96      0.98      0.97       654\n",
            "           1       0.91      0.79      0.84       135\n",
            "\n",
            "    accuracy                           0.95       789\n",
            "   macro avg       0.94      0.88      0.91       789\n",
            "weighted avg       0.95      0.95      0.95       789\n",
            "\n"
          ]
        }
      ],
      "source": [
        "print(classification_report(y_test,rf_pipeline_model.predict(X_test)))"
      ]
    },
    {
      "cell_type": "markdown",
      "metadata": {},
      "source": [
        "#### After Hyperparameter Tuning"
      ]
    },
    {
      "cell_type": "code",
      "execution_count": 294,
      "metadata": {
        "colab": {
          "base_uri": "https://localhost:8080/"
        },
        "id": "U3f4milwHVpX",
        "outputId": "bcd80d82-7a2e-4436-c5fc-03070624c447"
      },
      "outputs": [
        {
          "name": "stdout",
          "output_type": "stream",
          "text": [
            "F1-Score Hyper: 0.8906249999999999\n",
            "ROC-AUC After Tuning: 0.9168705402650357\n"
          ]
        }
      ],
      "source": [
        "y_pred = best_model_rf.predict(X_test)\n",
        "\n",
        "f1_hyper_rf = f1_score(y_test,y_pred)\n",
        "print(\"F1-Score Hyper:\",f1_hyper_rf)\n",
        "\n",
        "roc_auc_hyper_rf = roc_auc_score(y_test,y_pred)\n",
        "print(\"ROC-AUC After Tuning:\", roc_auc_hyper_rf)\n",
        "\n",
        "scores_hyper_rf = [f1_hyper_rf,roc_auc_hyper_rf]"
      ]
    },
    {
      "cell_type": "code",
      "execution_count": 295,
      "metadata": {
        "colab": {
          "base_uri": "https://localhost:8080/"
        },
        "id": "mUkV8W1gHdXD",
        "outputId": "e32e7dce-b633-45b1-a1a5-98441404c977"
      },
      "outputs": [
        {
          "name": "stdout",
          "output_type": "stream",
          "text": [
            "              precision    recall  f1-score   support\n",
            "\n",
            "           0       0.97      0.99      0.98       654\n",
            "           1       0.94      0.84      0.89       135\n",
            "\n",
            "    accuracy                           0.96       789\n",
            "   macro avg       0.96      0.92      0.93       789\n",
            "weighted avg       0.96      0.96      0.96       789\n",
            "\n"
          ]
        }
      ],
      "source": [
        "print(classification_report(y_test,best_model_rf.predict(X_test)))"
      ]
    },
    {
      "cell_type": "code",
      "execution_count": 296,
      "metadata": {},
      "outputs": [
        {
          "name": "stdout",
          "output_type": "stream",
          "text": [
            "RF Tuning Results\n"
          ]
        },
        {
          "data": {
            "text/html": [
              "<div>\n",
              "<style scoped>\n",
              "    .dataframe tbody tr th:only-of-type {\n",
              "        vertical-align: middle;\n",
              "    }\n",
              "\n",
              "    .dataframe tbody tr th {\n",
              "        vertical-align: top;\n",
              "    }\n",
              "\n",
              "    .dataframe thead th {\n",
              "        text-align: right;\n",
              "    }\n",
              "</style>\n",
              "<table border=\"1\" class=\"dataframe\">\n",
              "  <thead>\n",
              "    <tr style=\"text-align: right;\">\n",
              "      <th></th>\n",
              "      <th>Tuning</th>\n",
              "      <th>F1</th>\n",
              "      <th>ROC-AUC</th>\n",
              "    </tr>\n",
              "  </thead>\n",
              "  <tbody>\n",
              "    <tr>\n",
              "      <th>0</th>\n",
              "      <td>Before Tuning</td>\n",
              "      <td>0.844622</td>\n",
              "      <td>0.884947</td>\n",
              "    </tr>\n",
              "    <tr>\n",
              "      <th>1</th>\n",
              "      <td>After Tuning</td>\n",
              "      <td>0.890625</td>\n",
              "      <td>0.916871</td>\n",
              "    </tr>\n",
              "  </tbody>\n",
              "</table>\n",
              "</div>"
            ],
            "text/plain": [
              "          Tuning        F1   ROC-AUC\n",
              "0  Before Tuning  0.844622  0.884947\n",
              "1   After Tuning  0.890625  0.916871"
            ]
          },
          "execution_count": 296,
          "metadata": {},
          "output_type": "execute_result"
        }
      ],
      "source": [
        "rf_results = pd.DataFrame(\n",
        "    [\n",
        "        ['Before Tuning', f1_nohyper_rf,roc_auc_nohyper_rf],\n",
        "        ['After Tuning', f1_hyper_rf,roc_auc_hyper_rf]\n",
        "    ],\n",
        "    columns=['Tuning', 'F1','ROC-AUC']\n",
        ")\n",
        "print(\"RF Tuning Results\")\n",
        "rf_results"
      ]
    },
    {
      "cell_type": "code",
      "execution_count": 260,
      "metadata": {},
      "outputs": [
        {
          "name": "stdout",
          "output_type": "stream",
          "text": [
            "XGB Tuning Results\n"
          ]
        },
        {
          "data": {
            "text/html": [
              "<div>\n",
              "<style scoped>\n",
              "    .dataframe tbody tr th:only-of-type {\n",
              "        vertical-align: middle;\n",
              "    }\n",
              "\n",
              "    .dataframe tbody tr th {\n",
              "        vertical-align: top;\n",
              "    }\n",
              "\n",
              "    .dataframe thead th {\n",
              "        text-align: right;\n",
              "    }\n",
              "</style>\n",
              "<table border=\"1\" class=\"dataframe\">\n",
              "  <thead>\n",
              "    <tr style=\"text-align: right;\">\n",
              "      <th></th>\n",
              "      <th>Tuning</th>\n",
              "      <th>F1</th>\n",
              "      <th>ROC-AUC</th>\n",
              "    </tr>\n",
              "  </thead>\n",
              "  <tbody>\n",
              "    <tr>\n",
              "      <th>0</th>\n",
              "      <td>Before Tuning</td>\n",
              "      <td>0.836502</td>\n",
              "      <td>0.893646</td>\n",
              "    </tr>\n",
              "    <tr>\n",
              "      <th>1</th>\n",
              "      <td>After Tuning</td>\n",
              "      <td>0.844961</td>\n",
              "      <td>0.893000</td>\n",
              "    </tr>\n",
              "  </tbody>\n",
              "</table>\n",
              "</div>"
            ],
            "text/plain": [
              "          Tuning        F1   ROC-AUC\n",
              "0  Before Tuning  0.836502  0.893646\n",
              "1   After Tuning  0.844961  0.893000"
            ]
          },
          "execution_count": 260,
          "metadata": {},
          "output_type": "execute_result"
        }
      ],
      "source": [
        "print(\"XGB Tuning Results\")\n",
        "\n",
        "xgb_results"
      ]
    },
    {
      "cell_type": "markdown",
      "metadata": {},
      "source": [
        "Setelah dilakukan hyperparameter tuning terhadap XGB dan RF Model, bisa dilihat bahwa hyperparameter tuning ada membantu dengan skor F1, sekitar 3% kenaikan di skor F1 dari 83.1% -> 84.6% untuk XGB model dan 84.5% -> 85.9% Skor MAE dan RMSE juga menurun setelah hyperparameter tuning terhadap kedua model, dan ada penurunan sekitar 7.8% untuk RMSE dan 15% untuk MAE.\n",
        "\n",
        "Yang menarik disini adalah setelah hyperparameter tuning, skor ROC-AUC antar XGB dan RF Model menjadi 0.90, dan hanya ada perbedaan sekitar 0.005 diantara kedua model tersebut. Setelah hyperparameter tuning, ROC-AUC skor untuk RF Model menaikkan skornya dari 0.88 menjadi 0.89, dibanding dengan XGB Model, dimana adanya penurunan, dari 0.8936 menjadi 0.8390.\n",
        "Ini ada kemungkinan bahwa adanya overfitting di RF Model, yang di minimalisir setelah hyperparameter tuning. Dari sini kita bisa menyimpulkan bahwa RF Model setelah Hyperparameter tuning performanya lebih bagus daripada XGB Model, dari segi semua skor metrik yang dievaluasi, dari F1 dan ROC-AUC. "
      ]
    },
    {
      "cell_type": "markdown",
      "metadata": {
        "id": "XaxtA61HtL-p"
      },
      "source": [
        "### Feature Selecting - Feature Importances"
      ]
    },
    {
      "cell_type": "markdown",
      "metadata": {},
      "source": [
        "### XGB Classifier "
      ]
    },
    {
      "cell_type": "code",
      "execution_count": 244,
      "metadata": {
        "colab": {
          "base_uri": "https://localhost:8080/",
          "height": 673
        },
        "id": "Fc1bL6fWtPxT",
        "outputId": "b1710983-74fd-4ab2-b112-110583c58719"
      },
      "outputs": [
        {
          "data": {
            "image/png": "[encoded data removed]",
            "text/plain": [
              "<Figure size 1000x600 with 1 Axes>"
            ]
          },
          "metadata": {},
          "output_type": "display_data"
        }
      ],
      "source": [
        "best_model_xgb = random_search_xgb.best_estimator_\n",
        "\n",
        "xgb_classifier = best_model_xgb.named_steps['xgb_modelling']\n",
        "\n",
        "# Access feature importances\n",
        "feature_importances = xgb_classifier.feature_importances_\n",
        "\n",
        "# Create a DataFrame to store feature importances\n",
        "feature_importance_df = pd.DataFrame({'Feature': X_train.columns, 'Importance': feature_importances})\n",
        "\n",
        "# Sort the DataFrame by importance in descending order\n",
        "feature_importance_df = feature_importance_df.sort_values(by='Importance', ascending=False)\n",
        "\n",
        "# Set the number of top features to highlight\n",
        "top_n = 3\n",
        "top_features = feature_importance_df['Feature'][:top_n]\n",
        "\n",
        "bottom_three = 3\n",
        "\n",
        "# Create a color palette\n",
        "colors = ['green' if feature in top_features.values else 'lightgrey' for feature in feature_importance_df['Feature']]\n",
        "\n",
        "# Plot the feature importances using Seaborn\n",
        "plt.figure(figsize=(10, 6))\n",
        "sns.barplot(x='Importance', y='Feature', data=feature_importance_df, palette=colors)\n",
        "plt.xlabel('Importance')\n",
        "plt.ylabel('Feature')\n",
        "plt.title('Feature Importances')\n",
        "plt.show()"
      ]
    },
    {
      "cell_type": "markdown",
      "metadata": {
        "id": "HdOoLpcc5BUs"
      },
      "source": [
        "3 Fitur Terpenting berdasarkan Model Terbaik (Pengklasifikasi XGB):\n",
        "\n",
        "\n",
        "* Tenure -> Masa tinggal akan memiliki salah satu hubungan terkuat antara churn pelanggan, karena hal ini merepresentasikan customer loyalty. Tenure yang tinggi menandakan customer loyalty yang tinggi, yang bisa mencegah customer churn.\n",
        "* Complain -> Ketika pelanggan mengeluh, mereka mungkin memiliki kecenderungan untuk berhenti menggunakan produk e-commerce.\n",
        "* PreferedOrderCategory - Mobile Phones -> Hal ini dapat terjadi karena kategori ini mewakili sebagian besar pesanan yang lebih disukai pelanggan.\n",
        "\n",
        "Setelah adanya random seed yang dikerjakan sebelumnya, hasil Tenure jauh lebih tinggi daripada Complain. Tetapi dengan adanya random seed, Complain menjadi lebih tinggi daripada Tenure."
      ]
    },
    {
      "cell_type": "markdown",
      "metadata": {},
      "source": [
        "### Random Forest Classifier"
      ]
    },
    {
      "cell_type": "code",
      "execution_count": 297,
      "metadata": {
        "colab": {
          "base_uri": "https://localhost:8080/",
          "height": 673
        },
        "id": "YeW1ORtoHkdb",
        "outputId": "b75e7c94-ec4f-4cfa-8c05-61455fc29116"
      },
      "outputs": [
        {
          "data": {
            "image/png": "[encoded data removed]",
            "text/plain": [
              "<Figure size 1000x600 with 1 Axes>"
            ]
          },
          "metadata": {},
          "output_type": "display_data"
        }
      ],
      "source": [
        "best_model_rf = random_search_rf.best_estimator_\n",
        "\n",
        "rf_classifier = best_model_rf.named_steps['rf_modelling']\n",
        "\n",
        "feature_importances_rf = rf_classifier.feature_importances_\n",
        "\n",
        "feature_importance_rf_df = pd.DataFrame({'Feature': X_train.columns, 'Importance': feature_importances_rf})\n",
        "\n",
        "# Sort the DataFrame by importance in descending order\n",
        "feature_importance_rf_df = feature_importance_rf_df.sort_values(by='Importance', ascending=False)\n",
        "\n",
        "# Set the number of top features to highlight\n",
        "top_n = 3\n",
        "top_features = feature_importance_rf_df['Feature'][:top_n]\n",
        "\n",
        "bottom_three = 3\n",
        "\n",
        "# Create a color palette\n",
        "colors = ['green' if feature in top_features.values else 'lightgrey' for feature in feature_importance_rf_df['Feature']]\n",
        "\n",
        "# Plot the feature importances using Seaborn\n",
        "plt.figure(figsize=(10, 6))\n",
        "sns.barplot(x='Importance', y='Feature', data=feature_importance_rf_df, palette=colors)\n",
        "plt.xlabel('Importance')\n",
        "plt.ylabel('Feature')\n",
        "plt.title('Feature Importances')\n",
        "plt.show()"
      ]
    },
    {
      "cell_type": "markdown",
      "metadata": {
        "id": "C7kWki2LL4ZB"
      },
      "source": [
        "3 Fitur Terpenting berdasarkan Model Terbaik (Random Forest Classifier):\n",
        "\n",
        "\n",
        "* Tenure -> Tenure akan memiliki salah satu hubungan terkuat antara churn pelanggan, karena hal ini merepresentasikan customer loyalty. Tenure yang tinggi menandakan loyalitas pelanggan yang tinggi, yang bisa mencegah churn.\n",
        "* CashbackAmount -> Pelanggan selalu tertarik untuk mengejar promosi atau cashback berikutnya, karena pelanggan berpikir bahwa hal ini memberikan nilai paling besar bagi mereka dalam hal penggunaan e-commerce, dan akan melihat hal ini sebagai hadiah atas loyalitas pelanggan mereka.\n",
        "* WarehouseToHome -> Semakin dekat gudang ke rumah pelanggan, semakin rendah biaya pengiriman yang perlu dibebankan. Selain itu, jarak yang lebih dekat juga dapat berarti lebih kecil kemungkinan barang yang dikirim rusak. WarehouseToHome adalah variabel yang berhubungan dengan customer satisfaction."
      ]
    },
    {
      "cell_type": "markdown",
      "metadata": {
        "id": "NGHGIThONRhY"
      },
      "source": [
        "## Conclusion"
      ]
    },
    {
      "cell_type": "markdown",
      "metadata": {
        "id": "KbV5n-bBNTIS"
      },
      "source": [
        "- Fitting Transformation yang menghasilkan hasil yang paling bagus untuk Pipeline adalah IterativeImputer(), RobustScaler()\n",
        "\n",
        "- Dari pengamatan terhadap model-model tersebut, dapat disimpulkan bahwa model-model yang menyerupai pohon seperti Random Forest Classification dan XGB Classification memberikan hasil terbaik dengan nilai F-1 sebesar 86%. Hal ini berarti bahwa model-model tersebut dapat memprediksi hasil positif 89% dari waktu yang ada, dengan akurasi 96% untuk mendapatkan tingkat positif yang benar sebesar 86%.\n",
        "- Ini artinya, model kita bisa memprediksi bahwa customer akan churn dengan true positive rate 89%, dan hasil ini akurat dari 96% untuk prediksi tersebut.\n",
        "\n",
        "- Meskipun hasil dari tingkat kepentingan fitur berbeda, baik Random Forest Model maupun XGB Model menunjukkan bahwa \"Tenure\" merupakan fitur yang paling penting yang akan menentukan customer churn, karena ada masuk dalam top 3 features masing masing model.\n",
        "- Model Random Forest tampaknya lebih baik dalam menjelaskan pentingnya fitur dalam model dibandingkan dengan Model XGB.\n",
        "- Semakin lama Tenure dalam platform e-commerce, semakin kecil kemungkinan mereka untuk berpindah. Hal ini dapat mengindikasikan bahwa pelanggan dengan Tenure yang tinggi merupakan pelanggan yang loyal terhadap platform e-commerce, karena berbagai faktor seperti jarak gudang ke rumah, dan jumlah cashback."
      ]
    },
    {
      "cell_type": "markdown",
      "metadata": {},
      "source": [
        "## Limitations"
      ]
    },
    {
      "cell_type": "markdown",
      "metadata": {},
      "source": [
        "- Jumlah churn yang positif atau negatif kurang balance (lebih banyak proporsi 0 dibanding 1), dan bisa jadi butuh pengamatan lebih lanjut untuk bisa mendapatkan proporsi yang lebih balanced.\n",
        "\n",
        "- Dari menggali dataset asli di Kaggle, ada beberapa variabel yang tidak dimasukkan dalam dataset ini, beberapa darinya yaitu Gender, dan HourSpentOnApp, PreferredPaymentMode, dll., yang mungkin bisa bantu menjelaskan adanya pattern yang lebih dalam di dataset tersebut (contoh: kalau aplikasi tidak ada payment mode yang mayoritas orang pakai, ada kemungkinan customer tidak ingin lanjut memakai platform kita).\n",
        "\n",
        "- Masih ada beberapa data yang hilang yang mungkin berpengaruh dalam akurasi dan reliabilitas dataset."
      ]
    },
    {
      "cell_type": "markdown",
      "metadata": {},
      "source": [
        "## Recommendations"
      ]
    },
    {
      "cell_type": "markdown",
      "metadata": {},
      "source": [
        "### Recommendations for Model\n",
        "- Melakukan tes lebih lanjut dalam hyperparameter tuning untuk bisa meningkatkan score recall untuk model ini (karena score precision sudah tinggi, namun recall tidak begitu tinggi dibanding precision) yang bisa meningkatkan skor F1.\n",
        "- Bisa mencoba tree models yang belum dicoba di eksperimen ini seperti AdaBoost.\n",
        "- Bisa coba dilakukan Principal Component Analysis (PCA) untuk meningkatkan accuracy lebih lanjut."
      ]
    },
    {
      "cell_type": "markdown",
      "metadata": {},
      "source": [
        "### Recommendations for Company\n",
        "- Tahankan jumlah customer di e-commerce platform ini dengan mempertahankan posisi 'market leader' untuk kategori mayoritas seperti Laptop & Accessory dan Mobile Phone.\n",
        "- Lakukan promosi dan marketing, atau adanya semacam loyalty program, yang bisa bantu mempertahankan customer loyalty.\n",
        "- Lakukan investigasi terhadap jumlah cashback yang generate value yang optimal bagi perusahaan dan customer. \n",
        "- Meminimalisir complain dengan mencari tahu akar pemasalahan dalam aplikasi"
      ]
    },
    {
      "cell_type": "markdown",
      "metadata": {
        "id": "3F44VJs76SbL"
      },
      "source": [
        "### Saving Models"
      ]
    },
    {
      "cell_type": "code",
      "execution_count": 75,
      "metadata": {
        "id": "tiQ-TMc6NX61"
      },
      "outputs": [],
      "source": [
        "# save rf model pickle wb\n",
        "# save xgb model pickle wb\n",
        "# save"
      ]
    },
    {
      "cell_type": "code",
      "execution_count": 255,
      "metadata": {
        "id": "IAoLHDPW6U-c"
      },
      "outputs": [],
      "source": [
        "best_model_rf.fit(X, y)\n",
        "\n",
        "filename = \"RF Model Ecommerce.sav\"\n",
        "pickle.dump(best_model_rf, open(filename , \"wb\")) #write binary"
      ]
    }
  ],
  "metadata": {
    "colab": {
      "provenance": []
    },
    "kernelspec": {
      "display_name": "Python 3",
      "name": "python3"
    },
    "language_info": {
      "codemirror_mode": {
        "name": "ipython",
        "version": 3
      },
      "file_extension": ".py",
      "mimetype": "text/x-python",
      "name": "python",
      "nbconvert_exporter": "python",
      "pygments_lexer": "ipython3",
      "version": "3.11.7"
    }
  },
  "nbformat": 4,
  "nbformat_minor": 0
}
